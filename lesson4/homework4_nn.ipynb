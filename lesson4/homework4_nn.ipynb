{
  "nbformat": 4,
  "nbformat_minor": 0,
  "metadata": {
    "colab": {
      "name": "homework4_nn.ipynb",
      "provenance": [],
      "collapsed_sections": []
    },
    "kernelspec": {
      "name": "python3",
      "display_name": "Python 3"
    },
    "language_info": {
      "name": "python"
    },
    "accelerator": "GPU"
  },
  "cells": [
    {
      "cell_type": "markdown",
      "source": [
        "Практическое задание\n",
        "\n",
        "Вариант 1. (простой)\n",
        "\n",
        "    обучить сверточную нейронную сеть в стиле AlexNet (с падением размера ядра свертки и последовательностью блоков свертка-пулинг (conv-pool)-(conv-pool)-...) на датасете fashion-mnist или cifar10\n",
        "    оценить рост точности при увеличении ширины сети (больше ядер)\n",
        "    оценить рост точности при увеличении глубины сети (больше слоев)\n",
        "    (опциционально)сравнить с точностью полносвязной сети для этой выборки\n"
      ],
      "metadata": {
        "id": "aEFXraLxD1IX"
      }
    },
    {
      "cell_type": "code",
      "source": [
        "from tensorflow.keras.datasets import fashion_mnist\n",
        "from tensorflow.keras.utils import to_categorical\n",
        "\n",
        "import numpy as np\n",
        "import tensorflow as tf\n",
        "from tensorflow.keras.models import Sequential, Model\n",
        "from tensorflow.keras.layers import Conv2D, Input\n",
        "from tensorflow.keras.layers import GlobalMaxPooling2D, MaxPooling2D, AveragePooling2D, GlobalMaxPooling2D\n",
        "from tensorflow.keras import losses\n",
        "from tensorflow.keras import layers"
      ],
      "metadata": {
        "id": "e70QA2jGD19N"
      },
      "execution_count": null,
      "outputs": []
    },
    {
      "cell_type": "code",
      "source": [
        "# loading train, test data\n",
        "(x_train, y_train), (x_test, y_test) = fashion_mnist.load_data()\n",
        "\n",
        "x_train = tf.pad(x_train, [[0, 0], [2,2], [2,2]])/255\n",
        "x_test = tf.pad(x_test, [[0, 0], [2,2], [2, 2]])/255\n",
        "\n",
        "x_train = tf.expand_dims(x_train, axis=3, name=None)\n",
        "x_test = tf.expand_dims(x_test, axis=3, name=None)\n",
        "\n",
        "x_train = tf.repeat(x_train, 3, axis=3)\n",
        "x_test = tf.repeat(x_test, 3, axis=3)\n",
        "\n",
        "x_val = x_train[-2000:,:,:]\n",
        "y_val = y_train[-2000:]\n",
        "x_train = x_train[:-2000,:,:,:]\n",
        "y_train = y_train[:-2000]\n",
        "# conversation from uint8 to float32\n",
        "#x_train = x_train.astype('float32')\n",
        "#x_test = x_test.astype('float32')\n",
        "\n",
        "# data normalization [0, 1]\n",
        "#x_train /=255\n",
        "#x_test /= 255\n",
        "\n",
        "# one-hot encoding\n",
        "#y_train = to_categorical(y_train, 10)\n",
        "#y_test = to_categorical(y_test, 10)\n",
        "\n",
        "# convercation shape to 4D\n",
        "#x_train = x_train.reshape(x_train.shape[0], 28, 28, 1)\n",
        "#x_test = x_test.reshape(x_test.shape[0], 28, 28, 1)"
      ],
      "metadata": {
        "id": "kOvDS9tMEUNi",
        "colab": {
          "base_uri": "https://localhost:8080/"
        },
        "outputId": "a73caee3-3240-4fd1-9d3b-1f38fdb69928"
      },
      "execution_count": null,
      "outputs": [
        {
          "output_type": "stream",
          "name": "stdout",
          "text": [
            "Downloading data from https://storage.googleapis.com/tensorflow/tf-keras-datasets/train-labels-idx1-ubyte.gz\n",
            "32768/29515 [=================================] - 0s 0us/step\n",
            "40960/29515 [=========================================] - 0s 0us/step\n",
            "Downloading data from https://storage.googleapis.com/tensorflow/tf-keras-datasets/train-images-idx3-ubyte.gz\n",
            "26427392/26421880 [==============================] - 0s 0us/step\n",
            "26435584/26421880 [==============================] - 0s 0us/step\n",
            "Downloading data from https://storage.googleapis.com/tensorflow/tf-keras-datasets/t10k-labels-idx1-ubyte.gz\n",
            "16384/5148 [===============================================================================================] - 0s 0us/step\n",
            "Downloading data from https://storage.googleapis.com/tensorflow/tf-keras-datasets/t10k-images-idx3-ubyte.gz\n",
            "4423680/4422102 [==============================] - 0s 0us/step\n",
            "4431872/4422102 [==============================] - 0s 0us/step\n"
          ]
        }
      ]
    },
    {
      "cell_type": "code",
      "source": [
        "x_val.shape"
      ],
      "metadata": {
        "colab": {
          "base_uri": "https://localhost:8080/"
        },
        "id": "6uU8eklMGaW_",
        "outputId": "f7b4226a-b023-4e6d-aeef-a62ed3a9e5e8"
      },
      "execution_count": null,
      "outputs": [
        {
          "output_type": "execute_result",
          "data": {
            "text/plain": [
              "TensorShape([2000, 32, 32, 3])"
            ]
          },
          "metadata": {},
          "execution_count": 4
        }
      ]
    },
    {
      "cell_type": "code",
      "source": [
        "#x_valid, y_valid = x_train[:5000], y_train[:5000]"
      ],
      "metadata": {
        "id": "y_iV4J5BKD_d"
      },
      "execution_count": null,
      "outputs": []
    },
    {
      "cell_type": "code",
      "source": [
        "#x_train, y_train = x_train[5000:], y_train[5000:]"
      ],
      "metadata": {
        "id": "xyr1l6gkOk2X"
      },
      "execution_count": null,
      "outputs": []
    },
    {
      "cell_type": "code",
      "source": [
        "#x_train.shape"
      ],
      "metadata": {
        "colab": {
          "base_uri": "https://localhost:8080/"
        },
        "id": "1sQY29MZO_Ow",
        "outputId": "ac29eafc-e9ea-4cfb-c264-2c7d7522179a"
      },
      "execution_count": null,
      "outputs": [
        {
          "output_type": "execute_result",
          "data": {
            "text/plain": [
              "(55000, 28, 28)"
            ]
          },
          "metadata": {},
          "execution_count": 21
        }
      ]
    },
    {
      "cell_type": "code",
      "source": [
        "#x_train_ds = tf.data.Dataset.from_tensor_slices((x_train, y_train))\n",
        "#x_test_ds = tf.data.Dataset.from_tensor_slices((x_test, y_test))\n",
        "#x_valid_ds = tf.data.Dataset.from_tensor_slices((x_valid, y_valid))"
      ],
      "metadata": {
        "id": "WnYwWBg4QiSN"
      },
      "execution_count": null,
      "outputs": []
    },
    {
      "cell_type": "code",
      "source": [
        "#x_train_ds"
      ],
      "metadata": {
        "colab": {
          "base_uri": "https://localhost:8080/"
        },
        "id": "X2IPpbRmRMGO",
        "outputId": "55381648-b58a-4856-f9cc-8d9cfcc6cc5c"
      },
      "execution_count": null,
      "outputs": [
        {
          "output_type": "execute_result",
          "data": {
            "text/plain": [
              "<TensorSliceDataset shapes: ((28, 28), ()), types: (tf.uint8, tf.uint8)>"
            ]
          },
          "metadata": {},
          "execution_count": 25
        }
      ]
    },
    {
      "cell_type": "code",
      "source": [
        "from tensorflow.keras import layers\n",
        "model = Sequential()\n",
        "\n",
        "model.add(layers.experimental.preprocessing.Resizing(224, 224, interpolation=\"bilinear\", input_shape=x_train.shape[1:]))\n",
        "\n",
        "model.add(layers.Conv2D(filters = 96, kernel_size=(11,11), strides=(4,4), padding='same'))\n",
        "model.add(layers.Lambda(tf.nn.local_response_normalization))\n",
        "model.add(layers.Activation('relu'))\n",
        "model.add(layers.MaxPooling2D(pool_size=(3,3), strides=(2,2)))\n",
        "\n",
        "model.add(layers.Conv2D(filters=256, kernel_size=(5,5), strides=(4,4), padding='same'))\n",
        "model.add(layers.Lambda(tf.nn.local_response_normalization))\n",
        "model.add(layers.Activation('relu'))\n",
        "model.add(layers.MaxPooling2D(pool_size=(3,3), strides=2))\n",
        "\n",
        "model.add(layers.Conv2D(filters=384, kernel_size=(3,3), strides=(4,4), padding='same'))\n",
        "model.add(layers.Activation('relu'))\n",
        "\n",
        "model.add(layers.Conv2D(filters=384, kernel_size=(3,3), strides=(4,4), padding='same'))\n",
        "model.add(layers.Activation('relu'))\n",
        "\n",
        "model.add(layers.Conv2D(filters=256, kernel_size=(3,3), strides=(4,4), padding='same'))\n",
        "model.add(layers.Activation('relu'))\n",
        "\n",
        "model.add(layers.Flatten())\n",
        "\n",
        "model.add(layers.Dense(4096, activation='relu'))\n",
        "model.add(layers.Dropout(0.5))\n",
        "\n",
        "model.add(layers.Dense(4096, activation='relu'))\n",
        "model.add(layers.Dropout(0.5))\n",
        "\n",
        "model.add(layers.Dense(10, activation='softmax'))\n",
        "\n",
        "model.summary()"
      ],
      "metadata": {
        "id": "17hOphTlVWVi",
        "colab": {
          "base_uri": "https://localhost:8080/"
        },
        "outputId": "218414f0-aece-404c-c893-b758184d685c"
      },
      "execution_count": null,
      "outputs": [
        {
          "output_type": "stream",
          "name": "stdout",
          "text": [
            "Model: \"sequential_3\"\n",
            "_________________________________________________________________\n",
            " Layer (type)                Output Shape              Param #   \n",
            "=================================================================\n",
            " resizing_3 (Resizing)       (None, 224, 224, 3)       0         \n",
            "                                                                 \n",
            " conv2d_15 (Conv2D)          (None, 56, 56, 96)        34944     \n",
            "                                                                 \n",
            " lambda_6 (Lambda)           (None, 56, 56, 96)        0         \n",
            "                                                                 \n",
            " activation_15 (Activation)  (None, 56, 56, 96)        0         \n",
            "                                                                 \n",
            " max_pooling2d_6 (MaxPooling  (None, 27, 27, 96)       0         \n",
            " 2D)                                                             \n",
            "                                                                 \n",
            " conv2d_16 (Conv2D)          (None, 7, 7, 256)         614656    \n",
            "                                                                 \n",
            " lambda_7 (Lambda)           (None, 7, 7, 256)         0         \n",
            "                                                                 \n",
            " activation_16 (Activation)  (None, 7, 7, 256)         0         \n",
            "                                                                 \n",
            " max_pooling2d_7 (MaxPooling  (None, 3, 3, 256)        0         \n",
            " 2D)                                                             \n",
            "                                                                 \n",
            " conv2d_17 (Conv2D)          (None, 1, 1, 384)         885120    \n",
            "                                                                 \n",
            " activation_17 (Activation)  (None, 1, 1, 384)         0         \n",
            "                                                                 \n",
            " conv2d_18 (Conv2D)          (None, 1, 1, 384)         1327488   \n",
            "                                                                 \n",
            " activation_18 (Activation)  (None, 1, 1, 384)         0         \n",
            "                                                                 \n",
            " conv2d_19 (Conv2D)          (None, 1, 1, 256)         884992    \n",
            "                                                                 \n",
            " activation_19 (Activation)  (None, 1, 1, 256)         0         \n",
            "                                                                 \n",
            " flatten_3 (Flatten)         (None, 256)               0         \n",
            "                                                                 \n",
            " dense_9 (Dense)             (None, 4096)              1052672   \n",
            "                                                                 \n",
            " dropout_6 (Dropout)         (None, 4096)              0         \n",
            "                                                                 \n",
            " dense_10 (Dense)            (None, 4096)              16781312  \n",
            "                                                                 \n",
            " dropout_7 (Dropout)         (None, 4096)              0         \n",
            "                                                                 \n",
            " dense_11 (Dense)            (None, 10)                40970     \n",
            "                                                                 \n",
            "=================================================================\n",
            "Total params: 21,622,154\n",
            "Trainable params: 21,622,154\n",
            "Non-trainable params: 0\n",
            "_________________________________________________________________\n"
          ]
        }
      ]
    },
    {
      "cell_type": "code",
      "source": [
        "model.compile(optimizer='adam', loss=losses.sparse_categorical_crossentropy, metrics=['accuracy'])\n",
        "\n",
        "history = model.fit(x_train, y_train, batch_size=64, epochs=5, validation_data=(x_val, y_val))"
      ],
      "metadata": {
        "colab": {
          "base_uri": "https://localhost:8080/"
        },
        "id": "HI7kZOlqb1VG",
        "outputId": "8172b0e5-0429-4570-87d1-1b73def65bf9"
      },
      "execution_count": null,
      "outputs": [
        {
          "output_type": "stream",
          "name": "stdout",
          "text": [
            "Epoch 1/5\n",
            "907/907 [==============================] - 242s 266ms/step - loss: 0.6152 - accuracy: 0.7537 - val_loss: 0.3280 - val_accuracy: 0.8800\n",
            "Epoch 2/5\n",
            "907/907 [==============================] - 238s 262ms/step - loss: 0.3371 - accuracy: 0.8769 - val_loss: 0.2819 - val_accuracy: 0.8905\n",
            "Epoch 3/5\n",
            "907/907 [==============================] - 238s 262ms/step - loss: 0.2889 - accuracy: 0.8958 - val_loss: 0.2712 - val_accuracy: 0.8990\n",
            "Epoch 4/5\n",
            "907/907 [==============================] - 238s 262ms/step - loss: 0.2589 - accuracy: 0.9067 - val_loss: 0.2810 - val_accuracy: 0.9035\n",
            "Epoch 5/5\n",
            "907/907 [==============================] - 240s 264ms/step - loss: 0.2429 - accuracy: 0.9125 - val_loss: 0.2539 - val_accuracy: 0.9075\n"
          ]
        }
      ]
    },
    {
      "cell_type": "code",
      "source": [
        "test_loss, test_accuracy = model.evaluate(x_test, y_test)\n",
        "print(test_loss, test_accuracy)"
      ],
      "metadata": {
        "colab": {
          "base_uri": "https://localhost:8080/"
        },
        "id": "oYyPaMu0g7Eb",
        "outputId": "53931ed3-0539-437a-8051-4a92a7dd47ed"
      },
      "execution_count": null,
      "outputs": [
        {
          "output_type": "stream",
          "name": "stdout",
          "text": [
            "313/313 [==============================] - 19s 60ms/step - loss: 0.2860 - accuracy: 0.8998\n",
            "0.2860470712184906 0.8998000025749207\n"
          ]
        }
      ]
    },
    {
      "cell_type": "markdown",
      "source": [
        "2. Оценить рост точности при увеличении ширины сети (больше ядер)"
      ],
      "metadata": {
        "id": "XPIyuYZphaHX"
      }
    },
    {
      "cell_type": "code",
      "source": [
        "from tensorflow.keras import layers\n",
        "model = Sequential()\n",
        "\n",
        "model.add(layers.experimental.preprocessing.Resizing(224, 224, interpolation=\"bilinear\", input_shape=x_train.shape[1:]))\n",
        "\n",
        "model.add(layers.Conv2D(filters = 150, kernel_size=(11,11), strides=(4,4), padding='same'))\n",
        "model.add(layers.Lambda(tf.nn.local_response_normalization))\n",
        "model.add(layers.Activation('relu'))\n",
        "model.add(layers.MaxPooling2D(pool_size=(3,3), strides=(2,2)))\n",
        "\n",
        "model.add(layers.Conv2D(filters=300, kernel_size=(5,5), strides=(4,4), padding='same'))\n",
        "model.add(layers.Lambda(tf.nn.local_response_normalization))\n",
        "model.add(layers.Activation('relu'))\n",
        "model.add(layers.MaxPooling2D(pool_size=(3,3), strides=2))\n",
        "\n",
        "model.add(layers.Conv2D(filters=450, kernel_size=(3,3), strides=(4,4), padding='same'))\n",
        "model.add(layers.Activation('relu'))\n",
        "\n",
        "model.add(layers.Conv2D(filters=450, kernel_size=(3,3), strides=(4,4), padding='same'))\n",
        "model.add(layers.Activation('relu'))\n",
        "\n",
        "model.add(layers.Conv2D(filters=300, kernel_size=(3,3), strides=(4,4), padding='same'))\n",
        "model.add(layers.Activation('relu'))\n",
        "\n",
        "model.add(layers.Flatten())\n",
        "\n",
        "model.add(layers.Dense(4096, activation='relu'))\n",
        "model.add(layers.Dropout(0.5))\n",
        "\n",
        "model.add(layers.Dense(4096, activation='relu'))\n",
        "model.add(layers.Dropout(0.5))\n",
        "\n",
        "model.add(layers.Dense(10, activation='softmax'))\n",
        "\n",
        "model.summary()"
      ],
      "metadata": {
        "id": "PE0d1S4Dhx72",
        "colab": {
          "base_uri": "https://localhost:8080/"
        },
        "outputId": "1a85a5d4-7400-4c2c-9159-2261c0cc6d2a"
      },
      "execution_count": null,
      "outputs": [
        {
          "output_type": "stream",
          "name": "stdout",
          "text": [
            "Model: \"sequential_17\"\n",
            "_________________________________________________________________\n",
            " Layer (type)                Output Shape              Param #   \n",
            "=================================================================\n",
            " resizing_17 (Resizing)      (None, 224, 224, 3)       0         \n",
            "                                                                 \n",
            " conv2d_53 (Conv2D)          (None, 56, 56, 150)       54600     \n",
            "                                                                 \n",
            " lambda_50 (Lambda)          (None, 56, 56, 150)       0         \n",
            "                                                                 \n",
            " activation_53 (Activation)  (None, 56, 56, 150)       0         \n",
            "                                                                 \n",
            " max_pooling2d_47 (MaxPoolin  (None, 27, 27, 150)      0         \n",
            " g2D)                                                            \n",
            "                                                                 \n",
            " conv2d_54 (Conv2D)          (None, 7, 7, 300)         1125300   \n",
            "                                                                 \n",
            " lambda_51 (Lambda)          (None, 7, 7, 300)         0         \n",
            "                                                                 \n",
            " activation_54 (Activation)  (None, 7, 7, 300)         0         \n",
            "                                                                 \n",
            " max_pooling2d_48 (MaxPoolin  (None, 3, 3, 300)        0         \n",
            " g2D)                                                            \n",
            "                                                                 \n",
            " conv2d_55 (Conv2D)          (None, 1, 1, 450)         1215450   \n",
            "                                                                 \n",
            " activation_55 (Activation)  (None, 1, 1, 450)         0         \n",
            "                                                                 \n",
            " conv2d_56 (Conv2D)          (None, 1, 1, 450)         1822950   \n",
            "                                                                 \n",
            " activation_56 (Activation)  (None, 1, 1, 450)         0         \n",
            "                                                                 \n",
            " conv2d_57 (Conv2D)          (None, 1, 1, 300)         1215300   \n",
            "                                                                 \n",
            " activation_57 (Activation)  (None, 1, 1, 300)         0         \n",
            "                                                                 \n",
            " flatten_1 (Flatten)         (None, 300)               0         \n",
            "                                                                 \n",
            " dense_3 (Dense)             (None, 4096)              1232896   \n",
            "                                                                 \n",
            " dropout_2 (Dropout)         (None, 4096)              0         \n",
            "                                                                 \n",
            " dense_4 (Dense)             (None, 4096)              16781312  \n",
            "                                                                 \n",
            " dropout_3 (Dropout)         (None, 4096)              0         \n",
            "                                                                 \n",
            " dense_5 (Dense)             (None, 10)                40970     \n",
            "                                                                 \n",
            "=================================================================\n",
            "Total params: 23,488,778\n",
            "Trainable params: 23,488,778\n",
            "Non-trainable params: 0\n",
            "_________________________________________________________________\n"
          ]
        }
      ]
    },
    {
      "cell_type": "code",
      "source": [
        "model.compile(optimizer='adam', loss=losses.sparse_categorical_crossentropy, metrics=['accuracy'])\n",
        "\n",
        "history = model.fit(x_train, y_train, batch_size=64, epochs=5, validation_data=(x_val, y_val))"
      ],
      "metadata": {
        "colab": {
          "base_uri": "https://localhost:8080/"
        },
        "id": "JwifOKtqx_u4",
        "outputId": "12514c56-9029-4a75-9b14-90f8a6ab107d"
      },
      "execution_count": null,
      "outputs": [
        {
          "output_type": "stream",
          "name": "stdout",
          "text": [
            "Epoch 1/5\n",
            "907/907 [==============================] - 277s 293ms/step - loss: 0.6880 - accuracy: 0.7266 - val_loss: 0.3475 - val_accuracy: 0.8695\n",
            "Epoch 2/5\n",
            "907/907 [==============================] - 267s 294ms/step - loss: 0.3442 - accuracy: 0.8765 - val_loss: 0.3326 - val_accuracy: 0.8725\n",
            "Epoch 3/5\n",
            "907/907 [==============================] - 265s 292ms/step - loss: 0.2970 - accuracy: 0.8942 - val_loss: 0.2797 - val_accuracy: 0.8945\n",
            "Epoch 4/5\n",
            "907/907 [==============================] - 265s 292ms/step - loss: 0.2742 - accuracy: 0.9020 - val_loss: 0.2687 - val_accuracy: 0.9085\n",
            "Epoch 5/5\n",
            "907/907 [==============================] - 265s 293ms/step - loss: 0.2487 - accuracy: 0.9111 - val_loss: 0.2612 - val_accuracy: 0.9085\n"
          ]
        }
      ]
    },
    {
      "cell_type": "code",
      "source": [
        "test_loss, test_accuracy = model.evaluate(x_test, y_test)\n",
        "print(test_loss, test_accuracy)"
      ],
      "metadata": {
        "colab": {
          "base_uri": "https://localhost:8080/"
        },
        "id": "XeiGUEjDyGb5",
        "outputId": "4cee275e-6231-41a6-cbb8-47e321cf435f"
      },
      "execution_count": null,
      "outputs": [
        {
          "output_type": "stream",
          "name": "stdout",
          "text": [
            "313/313 [==============================] - 20s 64ms/step - loss: 0.2856 - accuracy: 0.9031\n",
            "0.2855660319328308 0.9031000137329102\n"
          ]
        }
      ]
    },
    {
      "cell_type": "markdown",
      "source": [
        "###Вывод: С увеличением числа фильтров растет точность модели."
      ],
      "metadata": {
        "id": "dX-Gbcr-3iB3"
      }
    },
    {
      "cell_type": "markdown",
      "source": [
        "3. Оценить рост точности при увеличении глубины сети (больше слоев)"
      ],
      "metadata": {
        "id": "6xdhToeMqe9g"
      }
    },
    {
      "cell_type": "code",
      "source": [
        "from tensorflow.keras import layers\n",
        "model = Sequential()\n",
        "\n",
        "model.add(layers.experimental.preprocessing.Resizing(224, 224, interpolation=\"bilinear\", input_shape=x_train.shape[1:]))\n",
        "\n",
        "model.add(layers.Conv2D(filters = 96, kernel_size=(22,22), strides=(4,4), padding='same'))\n",
        "model.add(layers.Lambda(tf.nn.local_response_normalization))\n",
        "model.add(layers.Activation('relu'))\n",
        "model.add(layers.MaxPooling2D(pool_size=(3,3), strides=(2,2)))\n",
        "\n",
        "model.add(layers.Conv2D(filters=256, kernel_size=(10,10), strides=(4,4), padding='same'))\n",
        "model.add(layers.Lambda(tf.nn.local_response_normalization))\n",
        "model.add(layers.Activation('relu'))\n",
        "model.add(layers.MaxPooling2D(pool_size=(3,3), strides=2))\n",
        "\n",
        "model.add(layers.Conv2D(filters=384, kernel_size=(9,9), strides=(4,4), padding='same'))\n",
        "model.add(layers.Activation('relu'))\n",
        "\n",
        "model.add(layers.Conv2D(filters=384, kernel_size=(9,9), strides=(4,4), padding='same'))\n",
        "model.add(layers.Activation('relu'))\n",
        "\n",
        "model.add(layers.Conv2D(filters=256, kernel_size=(9,9), strides=(4,4), padding='same'))\n",
        "model.add(layers.Activation('relu'))\n",
        "\n",
        "model.add(layers.Flatten())\n",
        "\n",
        "model.add(layers.Dense(4096, activation='relu'))\n",
        "model.add(layers.Dropout(0.5))\n",
        "\n",
        "model.add(layers.Dense(4096, activation='relu'))\n",
        "model.add(layers.Dropout(0.5))\n",
        "\n",
        "model.add(layers.Dense(10, activation='softmax'))\n",
        "\n",
        "model.summary()"
      ],
      "metadata": {
        "colab": {
          "base_uri": "https://localhost:8080/"
        },
        "id": "ov8lqdVKqdsG",
        "outputId": "125dcfb0-7f27-4d1e-f699-6406e08372c7"
      },
      "execution_count": null,
      "outputs": [
        {
          "output_type": "stream",
          "name": "stdout",
          "text": [
            "Model: \"sequential_23\"\n",
            "_________________________________________________________________\n",
            " Layer (type)                Output Shape              Param #   \n",
            "=================================================================\n",
            " resizing_23 (Resizing)      (None, 224, 224, 3)       0         \n",
            "                                                                 \n",
            " conv2d_83 (Conv2D)          (None, 56, 56, 96)        139488    \n",
            "                                                                 \n",
            " lambda_62 (Lambda)          (None, 56, 56, 96)        0         \n",
            "                                                                 \n",
            " activation_83 (Activation)  (None, 56, 56, 96)        0         \n",
            "                                                                 \n",
            " max_pooling2d_59 (MaxPoolin  (None, 27, 27, 96)       0         \n",
            " g2D)                                                            \n",
            "                                                                 \n",
            " conv2d_84 (Conv2D)          (None, 7, 7, 256)         2457856   \n",
            "                                                                 \n",
            " lambda_63 (Lambda)          (None, 7, 7, 256)         0         \n",
            "                                                                 \n",
            " activation_84 (Activation)  (None, 7, 7, 256)         0         \n",
            "                                                                 \n",
            " max_pooling2d_60 (MaxPoolin  (None, 3, 3, 256)        0         \n",
            " g2D)                                                            \n",
            "                                                                 \n",
            " conv2d_85 (Conv2D)          (None, 1, 1, 384)         7963008   \n",
            "                                                                 \n",
            " activation_85 (Activation)  (None, 1, 1, 384)         0         \n",
            "                                                                 \n",
            " conv2d_86 (Conv2D)          (None, 1, 1, 384)         11944320  \n",
            "                                                                 \n",
            " activation_86 (Activation)  (None, 1, 1, 384)         0         \n",
            "                                                                 \n",
            " conv2d_87 (Conv2D)          (None, 1, 1, 256)         7962880   \n",
            "                                                                 \n",
            " activation_87 (Activation)  (None, 1, 1, 256)         0         \n",
            "                                                                 \n",
            " flatten_7 (Flatten)         (None, 256)               0         \n",
            "                                                                 \n",
            " dense_21 (Dense)            (None, 4096)              1052672   \n",
            "                                                                 \n",
            " dropout_14 (Dropout)        (None, 4096)              0         \n",
            "                                                                 \n",
            " dense_22 (Dense)            (None, 4096)              16781312  \n",
            "                                                                 \n",
            " dropout_15 (Dropout)        (None, 4096)              0         \n",
            "                                                                 \n",
            " dense_23 (Dense)            (None, 10)                40970     \n",
            "                                                                 \n",
            "=================================================================\n",
            "Total params: 48,342,506\n",
            "Trainable params: 48,342,506\n",
            "Non-trainable params: 0\n",
            "_________________________________________________________________\n"
          ]
        }
      ]
    },
    {
      "cell_type": "code",
      "source": [
        "model.compile(optimizer='adam', loss=losses.sparse_categorical_crossentropy, metrics=['accuracy'])\n",
        "\n",
        "history = model.fit(x_train, y_train, batch_size=64, epochs=5, validation_data=(x_val, y_val))"
      ],
      "metadata": {
        "colab": {
          "base_uri": "https://localhost:8080/"
        },
        "id": "QLse5POn46D7",
        "outputId": "613a47ac-ec37-46c3-bd96-5c211a7d1713"
      },
      "execution_count": null,
      "outputs": [
        {
          "output_type": "stream",
          "name": "stdout",
          "text": [
            "Epoch 1/5\n",
            "907/907 [==============================] - 348s 381ms/step - loss: 0.7083 - accuracy: 0.7191 - val_loss: 0.3696 - val_accuracy: 0.8665\n",
            "Epoch 2/5\n",
            "907/907 [==============================] - 344s 380ms/step - loss: 0.3264 - accuracy: 0.8857 - val_loss: 0.2808 - val_accuracy: 0.9035\n",
            "Epoch 3/5\n",
            "907/907 [==============================] - 344s 380ms/step - loss: 0.2761 - accuracy: 0.9021 - val_loss: 0.2587 - val_accuracy: 0.9040\n",
            "Epoch 4/5\n",
            "907/907 [==============================] - 344s 380ms/step - loss: 0.2438 - accuracy: 0.9132 - val_loss: 0.2603 - val_accuracy: 0.9065\n",
            "Epoch 5/5\n",
            "907/907 [==============================] - 344s 380ms/step - loss: 0.2209 - accuracy: 0.9210 - val_loss: 0.2354 - val_accuracy: 0.9185\n"
          ]
        }
      ]
    },
    {
      "cell_type": "code",
      "source": [
        "test_loss, test_accuracy = model.evaluate(x_test, y_test)\n",
        "print(test_loss, test_accuracy)"
      ],
      "metadata": {
        "colab": {
          "base_uri": "https://localhost:8080/"
        },
        "id": "pTrAj-ww5EnH",
        "outputId": "a5aee77d-c263-4c4e-b599-605bbac2e77c"
      },
      "execution_count": null,
      "outputs": [
        {
          "output_type": "stream",
          "name": "stdout",
          "text": [
            "313/313 [==============================] - 29s 92ms/step - loss: 0.2745 - accuracy: 0.9087\n",
            "0.27452969551086426 0.9086999893188477\n"
          ]
        }
      ]
    },
    {
      "cell_type": "markdown",
      "source": [
        "### Вывод: С увеличением размера ядра растет точность модели, но это может привести к переобучению."
      ],
      "metadata": {
        "id": "ae0Zpx_KADiN"
      }
    }
  ]
}