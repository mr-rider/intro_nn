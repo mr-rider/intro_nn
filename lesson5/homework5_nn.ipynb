{
  "nbformat": 4,
  "nbformat_minor": 0,
  "metadata": {
    "colab": {
      "name": "homework5_nn.ipynb",
      "provenance": [],
      "collapsed_sections": []
    },
    "kernelspec": {
      "name": "python3",
      "display_name": "Python 3"
    },
    "language_info": {
      "name": "python"
    }
  },
  "cells": [
    {
      "cell_type": "markdown",
      "source": [
        "1. Попробуйте обучить нейронную сеть LSTM на любом другом датасете (любимый временной ряд, текст на русском (другом языке) как генератор или классификатор, или прилагаемый набор airline-passengers - пасажиропоток для авиалиний). Опишите, какой результат вы получили? Что помогло улучшить точность?"
      ],
      "metadata": {
        "id": "8-JTiStDJJa0"
      }
    },
    {
      "cell_type": "code",
      "source": [
        "from tensorflow.keras.models import Model\n",
        "from tensorflow.keras.layers import Input, LSTM, concatenate, Activation, MaxPooling2D, Conv2D, BatchNormalization, Dense\n",
        "from tensorflow.keras import backend as K \n",
        "from tensorflow.keras import Sequential\n",
        "from tensorflow.keras.optimizers import Adam\n",
        "from google.colab import files\n",
        "from google.colab import drive\n",
        "import matplotlib.pyplot as plt\n",
        "from tensorflow.keras.preprocessing import image\n",
        "\n",
        "import numpy as np\n",
        "from PIL import Image\n",
        "import tensorflow as tf\n",
        "import pandas as pd\n",
        "import math\n",
        "\n",
        "from sklearn.preprocessing import MinMaxScaler\n",
        "from sklearn.metrics import mean_squared_error\n",
        "\n",
        "\n"
      ],
      "metadata": {
        "id": "SgRx0OEWKawp"
      },
      "execution_count": null,
      "outputs": []
    },
    {
      "cell_type": "code",
      "source": [
        "drive.mount('/content/drive')"
      ],
      "metadata": {
        "colab": {
          "base_uri": "https://localhost:8080/"
        },
        "id": "db-EyTD1OD36",
        "outputId": "90b66beb-23bc-4602-d000-e9570c3a0652"
      },
      "execution_count": null,
      "outputs": [
        {
          "output_type": "stream",
          "name": "stdout",
          "text": [
            "Drive already mounted at /content/drive; to attempt to forcibly remount, call drive.mount(\"/content/drive\", force_remount=True).\n"
          ]
        }
      ]
    },
    {
      "cell_type": "code",
      "source": [
        "df = pd.read_csv('/content/drive/MyDrive/intro_nn/lesson5/airline-passengers.csv', skipfooter=5, engine='python')"
      ],
      "metadata": {
        "id": "0VvayWPuPClz"
      },
      "execution_count": null,
      "outputs": []
    },
    {
      "cell_type": "code",
      "source": [
        "df.head()"
      ],
      "metadata": {
        "colab": {
          "base_uri": "https://localhost:8080/",
          "height": 206
        },
        "id": "eOcYjXueQuut",
        "outputId": "8290a176-0a3f-4e2c-e80f-7c50d80ca965"
      },
      "execution_count": null,
      "outputs": [
        {
          "output_type": "execute_result",
          "data": {
            "text/html": [
              "\n",
              "  <div id=\"df-67d21d74-b91c-44a6-af12-c05bc7729c8b\">\n",
              "    <div class=\"colab-df-container\">\n",
              "      <div>\n",
              "<style scoped>\n",
              "    .dataframe tbody tr th:only-of-type {\n",
              "        vertical-align: middle;\n",
              "    }\n",
              "\n",
              "    .dataframe tbody tr th {\n",
              "        vertical-align: top;\n",
              "    }\n",
              "\n",
              "    .dataframe thead th {\n",
              "        text-align: right;\n",
              "    }\n",
              "</style>\n",
              "<table border=\"1\" class=\"dataframe\">\n",
              "  <thead>\n",
              "    <tr style=\"text-align: right;\">\n",
              "      <th></th>\n",
              "      <th>Month</th>\n",
              "      <th>Passengers</th>\n",
              "    </tr>\n",
              "  </thead>\n",
              "  <tbody>\n",
              "    <tr>\n",
              "      <th>0</th>\n",
              "      <td>1949-01</td>\n",
              "      <td>112</td>\n",
              "    </tr>\n",
              "    <tr>\n",
              "      <th>1</th>\n",
              "      <td>1949-02</td>\n",
              "      <td>118</td>\n",
              "    </tr>\n",
              "    <tr>\n",
              "      <th>2</th>\n",
              "      <td>1949-03</td>\n",
              "      <td>132</td>\n",
              "    </tr>\n",
              "    <tr>\n",
              "      <th>3</th>\n",
              "      <td>1949-04</td>\n",
              "      <td>129</td>\n",
              "    </tr>\n",
              "    <tr>\n",
              "      <th>4</th>\n",
              "      <td>1949-05</td>\n",
              "      <td>121</td>\n",
              "    </tr>\n",
              "  </tbody>\n",
              "</table>\n",
              "</div>\n",
              "      <button class=\"colab-df-convert\" onclick=\"convertToInteractive('df-67d21d74-b91c-44a6-af12-c05bc7729c8b')\"\n",
              "              title=\"Convert this dataframe to an interactive table.\"\n",
              "              style=\"display:none;\">\n",
              "        \n",
              "  <svg xmlns=\"http://www.w3.org/2000/svg\" height=\"24px\"viewBox=\"0 0 24 24\"\n",
              "       width=\"24px\">\n",
              "    <path d=\"M0 0h24v24H0V0z\" fill=\"none\"/>\n",
              "    <path d=\"M18.56 5.44l.94 2.06.94-2.06 2.06-.94-2.06-.94-.94-2.06-.94 2.06-2.06.94zm-11 1L8.5 8.5l.94-2.06 2.06-.94-2.06-.94L8.5 2.5l-.94 2.06-2.06.94zm10 10l.94 2.06.94-2.06 2.06-.94-2.06-.94-.94-2.06-.94 2.06-2.06.94z\"/><path d=\"M17.41 7.96l-1.37-1.37c-.4-.4-.92-.59-1.43-.59-.52 0-1.04.2-1.43.59L10.3 9.45l-7.72 7.72c-.78.78-.78 2.05 0 2.83L4 21.41c.39.39.9.59 1.41.59.51 0 1.02-.2 1.41-.59l7.78-7.78 2.81-2.81c.8-.78.8-2.07 0-2.86zM5.41 20L4 18.59l7.72-7.72 1.47 1.35L5.41 20z\"/>\n",
              "  </svg>\n",
              "      </button>\n",
              "      \n",
              "  <style>\n",
              "    .colab-df-container {\n",
              "      display:flex;\n",
              "      flex-wrap:wrap;\n",
              "      gap: 12px;\n",
              "    }\n",
              "\n",
              "    .colab-df-convert {\n",
              "      background-color: #E8F0FE;\n",
              "      border: none;\n",
              "      border-radius: 50%;\n",
              "      cursor: pointer;\n",
              "      display: none;\n",
              "      fill: #1967D2;\n",
              "      height: 32px;\n",
              "      padding: 0 0 0 0;\n",
              "      width: 32px;\n",
              "    }\n",
              "\n",
              "    .colab-df-convert:hover {\n",
              "      background-color: #E2EBFA;\n",
              "      box-shadow: 0px 1px 2px rgba(60, 64, 67, 0.3), 0px 1px 3px 1px rgba(60, 64, 67, 0.15);\n",
              "      fill: #174EA6;\n",
              "    }\n",
              "\n",
              "    [theme=dark] .colab-df-convert {\n",
              "      background-color: #3B4455;\n",
              "      fill: #D2E3FC;\n",
              "    }\n",
              "\n",
              "    [theme=dark] .colab-df-convert:hover {\n",
              "      background-color: #434B5C;\n",
              "      box-shadow: 0px 1px 3px 1px rgba(0, 0, 0, 0.15);\n",
              "      filter: drop-shadow(0px 1px 2px rgba(0, 0, 0, 0.3));\n",
              "      fill: #FFFFFF;\n",
              "    }\n",
              "  </style>\n",
              "\n",
              "      <script>\n",
              "        const buttonEl =\n",
              "          document.querySelector('#df-67d21d74-b91c-44a6-af12-c05bc7729c8b button.colab-df-convert');\n",
              "        buttonEl.style.display =\n",
              "          google.colab.kernel.accessAllowed ? 'block' : 'none';\n",
              "\n",
              "        async function convertToInteractive(key) {\n",
              "          const element = document.querySelector('#df-67d21d74-b91c-44a6-af12-c05bc7729c8b');\n",
              "          const dataTable =\n",
              "            await google.colab.kernel.invokeFunction('convertToInteractive',\n",
              "                                                     [key], {});\n",
              "          if (!dataTable) return;\n",
              "\n",
              "          const docLinkHtml = 'Like what you see? Visit the ' +\n",
              "            '<a target=\"_blank\" href=https://colab.research.google.com/notebooks/data_table.ipynb>data table notebook</a>'\n",
              "            + ' to learn more about interactive tables.';\n",
              "          element.innerHTML = '';\n",
              "          dataTable['output_type'] = 'display_data';\n",
              "          await google.colab.output.renderOutput(dataTable, element);\n",
              "          const docLink = document.createElement('div');\n",
              "          docLink.innerHTML = docLinkHtml;\n",
              "          element.appendChild(docLink);\n",
              "        }\n",
              "      </script>\n",
              "    </div>\n",
              "  </div>\n",
              "  "
            ],
            "text/plain": [
              "     Month  Passengers\n",
              "0  1949-01         112\n",
              "1  1949-02         118\n",
              "2  1949-03         132\n",
              "3  1949-04         129\n",
              "4  1949-05         121"
            ]
          },
          "metadata": {},
          "execution_count": 75
        }
      ]
    },
    {
      "cell_type": "code",
      "source": [
        "dataset = df.iloc[:, 1].values"
      ],
      "metadata": {
        "id": "flyaHkFDScfa"
      },
      "execution_count": null,
      "outputs": []
    },
    {
      "cell_type": "code",
      "source": [
        "dataset"
      ],
      "metadata": {
        "colab": {
          "base_uri": "https://localhost:8080/"
        },
        "id": "psXHVeFgSoju",
        "outputId": "302c3de3-637e-4999-8dcf-7e09c60c00c5"
      },
      "execution_count": null,
      "outputs": [
        {
          "output_type": "execute_result",
          "data": {
            "text/plain": [
              "array([112, 118, 132, 129, 121, 135, 148, 148, 136, 119, 104, 118, 115,\n",
              "       126, 141, 135, 125, 149, 170, 170, 158, 133, 114, 140, 145, 150,\n",
              "       178, 163, 172, 178, 199, 199, 184, 162, 146, 166, 171, 180, 193,\n",
              "       181, 183, 218, 230, 242, 209, 191, 172, 194, 196, 196, 236, 235,\n",
              "       229, 243, 264, 272, 237, 211, 180, 201, 204, 188, 235, 227, 234,\n",
              "       264, 302, 293, 259, 229, 203, 229, 242, 233, 267, 269, 270, 315,\n",
              "       364, 347, 312, 274, 237, 278, 284, 277, 317, 313, 318, 374, 413,\n",
              "       405, 355, 306, 271, 306, 315, 301, 356, 348, 355, 422, 465, 467,\n",
              "       404, 347, 305, 336, 340, 318, 362, 348, 363, 435, 491, 505, 404,\n",
              "       359, 310, 337, 360, 342, 406, 396, 420, 472, 548, 559, 463, 407,\n",
              "       362, 405, 417, 391, 419, 461, 472, 535, 622])"
            ]
          },
          "metadata": {},
          "execution_count": 77
        }
      ]
    },
    {
      "cell_type": "code",
      "source": [
        "plt.plot(dataset)\n",
        "plt.xlabel('time')\n",
        "plt.ylabel('number of passengers')\n",
        "plt.title('International Airline Passengers')\n",
        "plt.show()"
      ],
      "metadata": {
        "colab": {
          "base_uri": "https://localhost:8080/",
          "height": 295
        },
        "id": "_vqlaPNiS883",
        "outputId": "94dac3e7-d3be-4f3f-ce82-72c7c355ede9"
      },
      "execution_count": null,
      "outputs": [
        {
          "output_type": "display_data",
          "data": {
            "image/png": "[encoded data removed]",
            "text/plain": [
              "<Figure size 432x288 with 1 Axes>"
            ]
          },
          "metadata": {
            "needs_background": "light"
          }
        }
      ]
    },
    {
      "cell_type": "markdown",
      "source": [
        "###  Preprocessing"
      ],
      "metadata": {
        "id": "Jy_xWrwcXQoF"
      }
    },
    {
      "cell_type": "code",
      "source": [
        "\n",
        "\n",
        "dataset = dataset.reshape(-1, 1)\n",
        "dataset = dataset.astype('float32')\n",
        "dataset.shape"
      ],
      "metadata": {
        "colab": {
          "base_uri": "https://localhost:8080/"
        },
        "id": "SMuSpN8cTd_m",
        "outputId": "338bc0fa-1f0c-4639-a85c-6fae2816fba4"
      },
      "execution_count": null,
      "outputs": [
        {
          "output_type": "execute_result",
          "data": {
            "text/plain": [
              "(139, 1)"
            ]
          },
          "metadata": {},
          "execution_count": 79
        }
      ]
    },
    {
      "cell_type": "code",
      "source": [
        "scaler = MinMaxScaler(feature_range=(0,1))\n",
        "dataset = scaler.fit_transform(dataset)\n"
      ],
      "metadata": {
        "id": "T-rYjY7ZT-xD"
      },
      "execution_count": null,
      "outputs": []
    },
    {
      "cell_type": "code",
      "source": [
        "train_size = int(len(dataset)*0.7)\n",
        "test_size = len(dataset) - train_size\n",
        "train = dataset[0:train_size, :]\n",
        "test = dataset[train_size:len(dataset),:]\n",
        "print(f'train_size : {len(train)}, test_size : {len(test)}')"
      ],
      "metadata": {
        "colab": {
          "base_uri": "https://localhost:8080/"
        },
        "id": "ppIG4x2YUuD3",
        "outputId": "d9276f47-b873-44d1-f119-63e7b73250e9"
      },
      "execution_count": null,
      "outputs": [
        {
          "output_type": "stream",
          "name": "stdout",
          "text": [
            "train_size : 97, test_size : 42\n"
          ]
        }
      ]
    },
    {
      "cell_type": "code",
      "source": [
        "timestamp = 10\n",
        "dataX = []\n",
        "dataY = []\n",
        "\n",
        "for i in range(len(train) - timestamp-1):\n",
        "  a = train[i: (i + timestamp), 0]\n",
        "  dataX.append(a)\n",
        "  dataY.append(train[i+timestamp,0])\n",
        "\n",
        "trainX = np.array(dataX)\n",
        "trainY = np.array(dataY)"
      ],
      "metadata": {
        "id": "vAJ00PrcVoGj"
      },
      "execution_count": null,
      "outputs": []
    },
    {
      "cell_type": "code",
      "source": [
        "timestamp = 10\n",
        "dataX = []\n",
        "dataY = []\n",
        "\n",
        "for i in range(len(test) - timestamp-1):\n",
        "  a = test[i: (i + timestamp), 0]\n",
        "  dataX.append(a)\n",
        "  dataY.append(test[i+timestamp,0])\n",
        "\n",
        "testX = np.array(dataX)\n",
        "testY = np.array(dataY)"
      ],
      "metadata": {
        "id": "J3bt-k-hWQJy"
      },
      "execution_count": null,
      "outputs": []
    },
    {
      "cell_type": "code",
      "source": [
        "trainX = np.reshape(trainX, (trainX.shape[0], 1, trainX.shape[1]))\n",
        "testX = np.reshape(testX, (testX.shape[0], 1, testX.shape[1]))"
      ],
      "metadata": {
        "id": "QtmxZhPvWxwC"
      },
      "execution_count": null,
      "outputs": []
    },
    {
      "cell_type": "markdown",
      "source": [
        "### Creating LSTM (Long short-term memory)"
      ],
      "metadata": {
        "id": "mIamMguiXb3_"
      }
    },
    {
      "cell_type": "code",
      "source": [
        "model = Sequential()\n",
        "model.add(LSTM(10, input_shape=(1, timestamp)))\n",
        "\n",
        "model.add(Dense(1, activation='linear'))"
      ],
      "metadata": {
        "id": "lii_d-KAXg1O"
      },
      "execution_count": null,
      "outputs": []
    },
    {
      "cell_type": "code",
      "source": [
        "model.compile(loss='mean_squared_error', optimizer='adam')\n",
        "model.fit(trainX, trainY, epochs=100, batch_size=1)"
      ],
      "metadata": {
        "colab": {
          "base_uri": "https://localhost:8080/"
        },
        "id": "NuQ9cKU1JOw0",
        "outputId": "932e21a9-6465-4a77-eb8e-2a2c6ebccf86"
      },
      "execution_count": null,
      "outputs": [
        {
          "output_type": "stream",
          "name": "stdout",
          "text": [
            "Epoch 1/100\n",
            "86/86 [==============================] - 2s 3ms/step - loss: 0.0507\n",
            "Epoch 2/100\n",
            "86/86 [==============================] - 0s 3ms/step - loss: 0.0105\n",
            "Epoch 3/100\n",
            "86/86 [==============================] - 0s 3ms/step - loss: 0.0087\n",
            "Epoch 4/100\n",
            "86/86 [==============================] - 0s 2ms/step - loss: 0.0076\n",
            "Epoch 5/100\n",
            "86/86 [==============================] - 0s 2ms/step - loss: 0.0067\n",
            "Epoch 6/100\n",
            "86/86 [==============================] - 0s 3ms/step - loss: 0.0063\n",
            "Epoch 7/100\n",
            "86/86 [==============================] - 0s 2ms/step - loss: 0.0058\n",
            "Epoch 8/100\n",
            "86/86 [==============================] - 0s 3ms/step - loss: 0.0054\n",
            "Epoch 9/100\n",
            "86/86 [==============================] - 0s 2ms/step - loss: 0.0050\n",
            "Epoch 10/100\n",
            "86/86 [==============================] - 0s 2ms/step - loss: 0.0048\n",
            "Epoch 11/100\n",
            "86/86 [==============================] - 0s 3ms/step - loss: 0.0047\n",
            "Epoch 12/100\n",
            "86/86 [==============================] - 0s 2ms/step - loss: 0.0044\n",
            "Epoch 13/100\n",
            "86/86 [==============================] - 0s 2ms/step - loss: 0.0044\n",
            "Epoch 14/100\n",
            "86/86 [==============================] - 0s 2ms/step - loss: 0.0041\n",
            "Epoch 15/100\n",
            "86/86 [==============================] - 0s 2ms/step - loss: 0.0038\n",
            "Epoch 16/100\n",
            "86/86 [==============================] - 0s 3ms/step - loss: 0.0039\n",
            "Epoch 17/100\n",
            "86/86 [==============================] - 0s 3ms/step - loss: 0.0038\n",
            "Epoch 18/100\n",
            "86/86 [==============================] - 0s 2ms/step - loss: 0.0035\n",
            "Epoch 19/100\n",
            "86/86 [==============================] - 0s 2ms/step - loss: 0.0035\n",
            "Epoch 20/100\n",
            "86/86 [==============================] - 0s 3ms/step - loss: 0.0034\n",
            "Epoch 21/100\n",
            "86/86 [==============================] - 0s 2ms/step - loss: 0.0031\n",
            "Epoch 22/100\n",
            "86/86 [==============================] - 0s 3ms/step - loss: 0.0030\n",
            "Epoch 23/100\n",
            "86/86 [==============================] - 0s 3ms/step - loss: 0.0030\n",
            "Epoch 24/100\n",
            "86/86 [==============================] - 0s 3ms/step - loss: 0.0029\n",
            "Epoch 25/100\n",
            "86/86 [==============================] - 0s 2ms/step - loss: 0.0029\n",
            "Epoch 26/100\n",
            "86/86 [==============================] - 0s 2ms/step - loss: 0.0028\n",
            "Epoch 27/100\n",
            "86/86 [==============================] - 0s 2ms/step - loss: 0.0027\n",
            "Epoch 28/100\n",
            "86/86 [==============================] - 0s 3ms/step - loss: 0.0026\n",
            "Epoch 29/100\n",
            "86/86 [==============================] - 0s 3ms/step - loss: 0.0026\n",
            "Epoch 30/100\n",
            "86/86 [==============================] - 0s 3ms/step - loss: 0.0025\n",
            "Epoch 31/100\n",
            "86/86 [==============================] - 0s 3ms/step - loss: 0.0025\n",
            "Epoch 32/100\n",
            "86/86 [==============================] - 0s 3ms/step - loss: 0.0024\n",
            "Epoch 33/100\n",
            "86/86 [==============================] - 0s 3ms/step - loss: 0.0025\n",
            "Epoch 34/100\n",
            "86/86 [==============================] - 0s 3ms/step - loss: 0.0024\n",
            "Epoch 35/100\n",
            "86/86 [==============================] - 0s 3ms/step - loss: 0.0024\n",
            "Epoch 36/100\n",
            "86/86 [==============================] - 0s 3ms/step - loss: 0.0023\n",
            "Epoch 37/100\n",
            "86/86 [==============================] - 0s 3ms/step - loss: 0.0022\n",
            "Epoch 38/100\n",
            "86/86 [==============================] - 0s 3ms/step - loss: 0.0024\n",
            "Epoch 39/100\n",
            "86/86 [==============================] - 0s 3ms/step - loss: 0.0022\n",
            "Epoch 40/100\n",
            "86/86 [==============================] - 0s 3ms/step - loss: 0.0022\n",
            "Epoch 41/100\n",
            "86/86 [==============================] - 0s 3ms/step - loss: 0.0023\n",
            "Epoch 42/100\n",
            "86/86 [==============================] - 0s 3ms/step - loss: 0.0020\n",
            "Epoch 43/100\n",
            "86/86 [==============================] - 0s 3ms/step - loss: 0.0023\n",
            "Epoch 44/100\n",
            "86/86 [==============================] - 0s 3ms/step - loss: 0.0020\n",
            "Epoch 45/100\n",
            "86/86 [==============================] - 0s 3ms/step - loss: 0.0021\n",
            "Epoch 46/100\n",
            "86/86 [==============================] - 0s 3ms/step - loss: 0.0020\n",
            "Epoch 47/100\n",
            "86/86 [==============================] - 0s 2ms/step - loss: 0.0021\n",
            "Epoch 48/100\n",
            "86/86 [==============================] - 0s 2ms/step - loss: 0.0019\n",
            "Epoch 49/100\n",
            "86/86 [==============================] - 0s 2ms/step - loss: 0.0021\n",
            "Epoch 50/100\n",
            "86/86 [==============================] - 0s 2ms/step - loss: 0.0018\n",
            "Epoch 51/100\n",
            "86/86 [==============================] - 0s 2ms/step - loss: 0.0020\n",
            "Epoch 52/100\n",
            "86/86 [==============================] - 0s 2ms/step - loss: 0.0020\n",
            "Epoch 53/100\n",
            "86/86 [==============================] - 0s 2ms/step - loss: 0.0019\n",
            "Epoch 54/100\n",
            "86/86 [==============================] - 0s 3ms/step - loss: 0.0018\n",
            "Epoch 55/100\n",
            "86/86 [==============================] - 0s 3ms/step - loss: 0.0019\n",
            "Epoch 56/100\n",
            "86/86 [==============================] - 0s 3ms/step - loss: 0.0020\n",
            "Epoch 57/100\n",
            "86/86 [==============================] - 0s 2ms/step - loss: 0.0017\n",
            "Epoch 58/100\n",
            "86/86 [==============================] - 0s 2ms/step - loss: 0.0019\n",
            "Epoch 59/100\n",
            "86/86 [==============================] - 0s 2ms/step - loss: 0.0019\n",
            "Epoch 60/100\n",
            "86/86 [==============================] - 0s 3ms/step - loss: 0.0016\n",
            "Epoch 61/100\n",
            "86/86 [==============================] - 0s 3ms/step - loss: 0.0021\n",
            "Epoch 62/100\n",
            "86/86 [==============================] - 0s 3ms/step - loss: 0.0017\n",
            "Epoch 63/100\n",
            "86/86 [==============================] - 0s 2ms/step - loss: 0.0017\n",
            "Epoch 64/100\n",
            "86/86 [==============================] - 0s 3ms/step - loss: 0.0016\n",
            "Epoch 65/100\n",
            "86/86 [==============================] - 0s 2ms/step - loss: 0.0016\n",
            "Epoch 66/100\n",
            "86/86 [==============================] - 0s 2ms/step - loss: 0.0016\n",
            "Epoch 67/100\n",
            "86/86 [==============================] - 0s 2ms/step - loss: 0.0017\n",
            "Epoch 68/100\n",
            "86/86 [==============================] - 0s 2ms/step - loss: 0.0016\n",
            "Epoch 69/100\n",
            "86/86 [==============================] - 0s 3ms/step - loss: 0.0019\n",
            "Epoch 70/100\n",
            "86/86 [==============================] - 0s 2ms/step - loss: 0.0015\n",
            "Epoch 71/100\n",
            "86/86 [==============================] - 0s 2ms/step - loss: 0.0015\n",
            "Epoch 72/100\n",
            "86/86 [==============================] - 0s 3ms/step - loss: 0.0015\n",
            "Epoch 73/100\n",
            "86/86 [==============================] - 0s 2ms/step - loss: 0.0016\n",
            "Epoch 74/100\n",
            "86/86 [==============================] - 0s 2ms/step - loss: 0.0016\n",
            "Epoch 75/100\n",
            "86/86 [==============================] - 0s 3ms/step - loss: 0.0016\n",
            "Epoch 76/100\n",
            "86/86 [==============================] - 0s 2ms/step - loss: 0.0016\n",
            "Epoch 77/100\n",
            "86/86 [==============================] - 0s 3ms/step - loss: 0.0015\n",
            "Epoch 78/100\n",
            "86/86 [==============================] - 0s 3ms/step - loss: 0.0016\n",
            "Epoch 79/100\n",
            "86/86 [==============================] - 0s 3ms/step - loss: 0.0016\n",
            "Epoch 80/100\n",
            "86/86 [==============================] - 0s 3ms/step - loss: 0.0015\n",
            "Epoch 81/100\n",
            "86/86 [==============================] - 0s 3ms/step - loss: 0.0015\n",
            "Epoch 82/100\n",
            "86/86 [==============================] - 0s 3ms/step - loss: 0.0016\n",
            "Epoch 83/100\n",
            "86/86 [==============================] - 0s 3ms/step - loss: 0.0015\n",
            "Epoch 84/100\n",
            "86/86 [==============================] - 0s 3ms/step - loss: 0.0015\n",
            "Epoch 85/100\n",
            "86/86 [==============================] - 0s 3ms/step - loss: 0.0014\n",
            "Epoch 86/100\n",
            "86/86 [==============================] - 0s 3ms/step - loss: 0.0016\n",
            "Epoch 87/100\n",
            "86/86 [==============================] - 0s 3ms/step - loss: 0.0016\n",
            "Epoch 88/100\n",
            "86/86 [==============================] - 0s 3ms/step - loss: 0.0016\n",
            "Epoch 89/100\n",
            "86/86 [==============================] - 0s 3ms/step - loss: 0.0015\n",
            "Epoch 90/100\n",
            "86/86 [==============================] - 0s 3ms/step - loss: 0.0015\n",
            "Epoch 91/100\n",
            "86/86 [==============================] - 0s 3ms/step - loss: 0.0015\n",
            "Epoch 92/100\n",
            "86/86 [==============================] - 0s 3ms/step - loss: 0.0014\n",
            "Epoch 93/100\n",
            "86/86 [==============================] - 0s 3ms/step - loss: 0.0014\n",
            "Epoch 94/100\n",
            "86/86 [==============================] - 0s 3ms/step - loss: 0.0015\n",
            "Epoch 95/100\n",
            "86/86 [==============================] - 0s 3ms/step - loss: 0.0014\n",
            "Epoch 96/100\n",
            "86/86 [==============================] - 0s 3ms/step - loss: 0.0015\n",
            "Epoch 97/100\n",
            "86/86 [==============================] - 0s 3ms/step - loss: 0.0015\n",
            "Epoch 98/100\n",
            "86/86 [==============================] - 0s 3ms/step - loss: 0.0015\n",
            "Epoch 99/100\n",
            "86/86 [==============================] - 0s 2ms/step - loss: 0.0015\n",
            "Epoch 100/100\n",
            "86/86 [==============================] - 0s 3ms/step - loss: 0.0015\n"
          ]
        },
        {
          "output_type": "execute_result",
          "data": {
            "text/plain": [
              "<keras.callbacks.History at 0x7f5fe79c5fd0>"
            ]
          },
          "metadata": {},
          "execution_count": 86
        }
      ]
    },
    {
      "cell_type": "code",
      "source": [
        "trainPredict = model.predict(trainX)\n",
        "testPredict = model.predict(testX)"
      ],
      "metadata": {
        "id": "vN7Cja1rKUXs"
      },
      "execution_count": null,
      "outputs": []
    },
    {
      "cell_type": "code",
      "source": [
        "trainPredict = scaler.inverse_transform(trainPredict)\n",
        "trainY = scaler.inverse_transform([trainY])\n",
        "testPredict = scaler.inverse_transform(testPredict)\n",
        "testY = scaler.inverse_transform([testY])"
      ],
      "metadata": {
        "id": "72r9A3TOKpgi"
      },
      "execution_count": null,
      "outputs": []
    },
    {
      "cell_type": "code",
      "source": [
        "trainScore = math.sqrt(mean_squared_error(trainY[0], trainPredict[:,0]))\n",
        "print('Train Score: %.2f RMSE' % (trainScore))\n",
        "testScore = math.sqrt(mean_squared_error(testY[0], testPredict[:,0]))\n",
        "print('Test Score: %.2f RMSE' % (testScore))"
      ],
      "metadata": {
        "colab": {
          "base_uri": "https://localhost:8080/"
        },
        "id": "Yx6Vw5NOLGtB",
        "outputId": "4ff6b4fe-11b0-415b-9687-d947372a5150"
      },
      "execution_count": null,
      "outputs": [
        {
          "output_type": "stream",
          "name": "stdout",
          "text": [
            "Train Score: 18.75 RMSE\n",
            "Test Score: 35.47 RMSE\n"
          ]
        }
      ]
    },
    {
      "cell_type": "code",
      "source": [
        "trainPredictPlot = np.empty_like(dataset)\n",
        "trainPredictPlot[:, :] = np.nan\n",
        "trainPredictPlot[timestamp:len(trainPredict)+timestamp, :] = trainPredict\n",
        "\n",
        "testPredictPlot = np.empty_like(dataset)\n",
        "testPredictPlot[:, :] = np.nan\n",
        "testPredictPlot[len(trainPredict)+(timestamp*2)+1:len(dataset)-1, :] = testPredict\n",
        "\n",
        "plt.plot(scaler.inverse_transform(dataset))\n",
        "plt.plot(trainPredictPlot)\n",
        "plt.plot(testPredictPlot)\n",
        "plt.show()"
      ],
      "metadata": {
        "colab": {
          "base_uri": "https://localhost:8080/",
          "height": 265
        },
        "id": "MTwre7XlMFnV",
        "outputId": "8f850ee2-edf3-4a57-cc17-d9c4b893be55"
      },
      "execution_count": null,
      "outputs": [
        {
          "output_type": "display_data",
          "data": {
            "image/png": "[encoded data removed]",
            "text/plain": [
              "<Figure size 432x288 with 1 Axes>"
            ]
          },
          "metadata": {
            "needs_background": "light"
          }
        }
      ]
    },
    {
      "cell_type": "markdown",
      "source": [
        "### Вывод: Модель на основе LTSM достаточно точно предсказывает  количество пассажиров в заданные периоды времени (RMSE на тесте 35.47). Немного повысилась точность при увеличении x_train с 0.5 до 0.7"
      ],
      "metadata": {
        "id": "sLKFjVtKguJ6"
      }
    }
  ]
}