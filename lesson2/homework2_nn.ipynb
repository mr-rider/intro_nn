{
  "nbformat": 4,
  "nbformat_minor": 0,
  "metadata": {
    "colab": {
      "name": "homework2_nn.ipynb",
      "provenance": [],
      "collapsed_sections": []
    },
    "kernelspec": {
      "name": "python3",
      "display_name": "Python 3"
    },
    "language_info": {
      "name": "python"
    }
  },
  "cells": [
    {
      "cell_type": "code",
      "execution_count": 2,
      "metadata": {
        "id": "Jb2GMqdI7RX2"
      },
      "outputs": [],
      "source": [
        "from keras.datasets import fashion_mnist\n",
        "import numpy as np\n",
        "import keras\n",
        "import matplotlib.pyplot as plt"
      ]
    },
    {
      "cell_type": "code",
      "source": [
        "(train_imagef, train_labelf),(test_imagef, test_labelf)=fashion_mnist.load_data()"
      ],
      "metadata": {
        "colab": {
          "base_uri": "https://localhost:8080/"
        },
        "id": "wmU8wKcs7d72",
        "outputId": "326b89bc-6247-490e-faa9-932ee83b0a19"
      },
      "execution_count": 3,
      "outputs": [
        {
          "output_type": "stream",
          "name": "stdout",
          "text": [
            "Downloading data from https://storage.googleapis.com/tensorflow/tf-keras-datasets/train-labels-idx1-ubyte.gz\n",
            "32768/29515 [=================================] - 0s 0us/step\n",
            "40960/29515 [=========================================] - 0s 0us/step\n",
            "Downloading data from https://storage.googleapis.com/tensorflow/tf-keras-datasets/train-images-idx3-ubyte.gz\n",
            "26427392/26421880 [==============================] - 0s 0us/step\n",
            "26435584/26421880 [==============================] - 0s 0us/step\n",
            "Downloading data from https://storage.googleapis.com/tensorflow/tf-keras-datasets/t10k-labels-idx1-ubyte.gz\n",
            "16384/5148 [===============================================================================================] - 0s 0us/step\n",
            "Downloading data from https://storage.googleapis.com/tensorflow/tf-keras-datasets/t10k-images-idx3-ubyte.gz\n",
            "4423680/4422102 [==============================] - 0s 0us/step\n",
            "4431872/4422102 [==============================] - 0s 0us/step\n"
          ]
        }
      ]
    },
    {
      "cell_type": "code",
      "source": [
        "plt.imshow(train_imagef[11, :, :])\n",
        "plt.show()"
      ],
      "metadata": {
        "colab": {
          "base_uri": "https://localhost:8080/",
          "height": 265
        },
        "id": "a2qFpg4I8Re2",
        "outputId": "2e3dd9d6-896a-4bd5-97d1-ad07e272d56e"
      },
      "execution_count": null,
      "outputs": [
        {
          "output_type": "display_data",
          "data": {
            "image/png": "[encoded data removed]",
            "text/plain": [
              "<Figure size 432x288 with 1 Axes>"
            ]
          },
          "metadata": {
            "needs_background": "light"
          }
        }
      ]
    },
    {
      "cell_type": "code",
      "source": [
        "# Normalize the images.\n",
        "train_imagef = (train_imagef / 127) -1\n",
        "test_imagef = (test_imagef / 127) -1\n",
        "\n",
        "# Flatten the images\n",
        "train_images = train_imagef.reshape((-1, 784))\n",
        "test_images = test_imagef.reshape((-1, 784))\n",
        "\n",
        "print(train_images.shape)\n",
        "print(test_images.shape)"
      ],
      "metadata": {
        "colab": {
          "base_uri": "https://localhost:8080/"
        },
        "id": "1THyuswb8ob4",
        "outputId": "02c9f4e2-80c7-4ee4-d228-a000664e05f3"
      },
      "execution_count": 4,
      "outputs": [
        {
          "output_type": "stream",
          "name": "stdout",
          "text": [
            "(60000, 784)\n",
            "(10000, 784)\n"
          ]
        }
      ]
    },
    {
      "cell_type": "code",
      "source": [
        "labels = np.unique(train_labelf)"
      ],
      "metadata": {
        "id": "rwvnzme3-BSG"
      },
      "execution_count": 27,
      "outputs": []
    },
    {
      "cell_type": "code",
      "source": [
        "from keras.models import Sequential\n",
        "from keras.layers import  Dense\n",
        "from tensorflow.keras.utils import to_categorical"
      ],
      "metadata": {
        "id": "tzkNxTv3_iHE"
      },
      "execution_count": 5,
      "outputs": []
    },
    {
      "cell_type": "code",
      "source": [
        "# Build the model.\n",
        "\n",
        "model = Sequential([\n",
        "                    Dense(128, activation='tanh', input_shape=(784,)),\n",
        "                    Dense(110, activation='tanh'),\n",
        "                    Dense(100, activation='tanh'),\n",
        "                    Dense(10, activation='softmax'),\n",
        "])"
      ],
      "metadata": {
        "id": "wGcCva-qAn10"
      },
      "execution_count": 6,
      "outputs": []
    },
    {
      "cell_type": "code",
      "source": [
        "# Compile the model.\n",
        "\n",
        "model.compile(\n",
        "    optimizer='adam',\n",
        "    loss='categorical_crossentropy',\n",
        "    metrics=['accuracy'],\n",
        ")"
      ],
      "metadata": {
        "id": "bGLE1P6rBOHy"
      },
      "execution_count": 7,
      "outputs": []
    },
    {
      "cell_type": "code",
      "source": [
        "model.summary()"
      ],
      "metadata": {
        "colab": {
          "base_uri": "https://localhost:8080/"
        },
        "id": "8y0q-dRIBkw6",
        "outputId": "4e890b2c-ec7c-45f7-9329-09429f7adeea"
      },
      "execution_count": 8,
      "outputs": [
        {
          "output_type": "stream",
          "name": "stdout",
          "text": [
            "Model: \"sequential\"\n",
            "_________________________________________________________________\n",
            " Layer (type)                Output Shape              Param #   \n",
            "=================================================================\n",
            " dense (Dense)               (None, 128)               100480    \n",
            "                                                                 \n",
            " dense_1 (Dense)             (None, 110)               14190     \n",
            "                                                                 \n",
            " dense_2 (Dense)             (None, 100)               11100     \n",
            "                                                                 \n",
            " dense_3 (Dense)             (None, 10)                1010      \n",
            "                                                                 \n",
            "=================================================================\n",
            "Total params: 126,780\n",
            "Trainable params: 126,780\n",
            "Non-trainable params: 0\n",
            "_________________________________________________________________\n"
          ]
        }
      ]
    },
    {
      "cell_type": "code",
      "source": [
        "y_train = to_categorical(train_labelf)\n",
        "y_test = to_categorical(test_labelf)"
      ],
      "metadata": {
        "id": "cz7scnclBpQY"
      },
      "execution_count": 9,
      "outputs": []
    },
    {
      "cell_type": "code",
      "source": [
        "# Train the model\n",
        "\n",
        "model.fit(\n",
        "    train_images[:,:],\n",
        "    y_train[:,:],\n",
        "    epochs=15,\n",
        "    batch_size=32, validation_split=0.2\n",
        ")"
      ],
      "metadata": {
        "colab": {
          "base_uri": "https://localhost:8080/"
        },
        "id": "GmuoWHtmCZH_",
        "outputId": "d60367ae-c35e-4dc4-eace-0553533f7edb"
      },
      "execution_count": 10,
      "outputs": [
        {
          "output_type": "stream",
          "name": "stdout",
          "text": [
            "Epoch 1/15\n",
            "1500/1500 [==============================] - 5s 3ms/step - loss: 0.5059 - accuracy: 0.8164 - val_loss: 0.4368 - val_accuracy: 0.8422\n",
            "Epoch 2/15\n",
            "1500/1500 [==============================] - 4s 3ms/step - loss: 0.4012 - accuracy: 0.8537 - val_loss: 0.3930 - val_accuracy: 0.8571\n",
            "Epoch 3/15\n",
            "1500/1500 [==============================] - 5s 3ms/step - loss: 0.3738 - accuracy: 0.8627 - val_loss: 0.3979 - val_accuracy: 0.8553\n",
            "Epoch 4/15\n",
            "1500/1500 [==============================] - 4s 3ms/step - loss: 0.3552 - accuracy: 0.8692 - val_loss: 0.3773 - val_accuracy: 0.8653\n",
            "Epoch 5/15\n",
            "1500/1500 [==============================] - 4s 3ms/step - loss: 0.3395 - accuracy: 0.8748 - val_loss: 0.3717 - val_accuracy: 0.8640\n",
            "Epoch 6/15\n",
            "1500/1500 [==============================] - 5s 3ms/step - loss: 0.3286 - accuracy: 0.8811 - val_loss: 0.3640 - val_accuracy: 0.8698\n",
            "Epoch 7/15\n",
            "1500/1500 [==============================] - 5s 3ms/step - loss: 0.3185 - accuracy: 0.8831 - val_loss: 0.3564 - val_accuracy: 0.8716\n",
            "Epoch 8/15\n",
            "1500/1500 [==============================] - 4s 3ms/step - loss: 0.3115 - accuracy: 0.8861 - val_loss: 0.3570 - val_accuracy: 0.8722\n",
            "Epoch 9/15\n",
            "1500/1500 [==============================] - 4s 3ms/step - loss: 0.3020 - accuracy: 0.8889 - val_loss: 0.3682 - val_accuracy: 0.8712\n",
            "Epoch 10/15\n",
            "1500/1500 [==============================] - 4s 3ms/step - loss: 0.2943 - accuracy: 0.8908 - val_loss: 0.3593 - val_accuracy: 0.8717\n",
            "Epoch 11/15\n",
            "1500/1500 [==============================] - 5s 3ms/step - loss: 0.2887 - accuracy: 0.8924 - val_loss: 0.3573 - val_accuracy: 0.8753\n",
            "Epoch 12/15\n",
            "1500/1500 [==============================] - 4s 3ms/step - loss: 0.2816 - accuracy: 0.8942 - val_loss: 0.3471 - val_accuracy: 0.8803\n",
            "Epoch 13/15\n",
            "1500/1500 [==============================] - 4s 3ms/step - loss: 0.2797 - accuracy: 0.8947 - val_loss: 0.3386 - val_accuracy: 0.8773\n",
            "Epoch 14/15\n",
            "1500/1500 [==============================] - 4s 3ms/step - loss: 0.2721 - accuracy: 0.8991 - val_loss: 0.3458 - val_accuracy: 0.8782\n",
            "Epoch 15/15\n",
            "1500/1500 [==============================] - 5s 3ms/step - loss: 0.2675 - accuracy: 0.8988 - val_loss: 0.3543 - val_accuracy: 0.8733\n"
          ]
        },
        {
          "output_type": "execute_result",
          "data": {
            "text/plain": [
              "<keras.callbacks.History at 0x7f40a0966a90>"
            ]
          },
          "metadata": {},
          "execution_count": 10
        }
      ]
    },
    {
      "cell_type": "code",
      "source": [
        "# Evaluate the model.\n",
        "test_loss_1_1, test_accuracy_1_1 = model.evaluate(\n",
        "    test_images,\n",
        "    y_test\n",
        ")\n",
        "# test_loss , test_accuracy\n",
        "print(test_accuracy_1_1)"
      ],
      "metadata": {
        "colab": {
          "base_uri": "https://localhost:8080/"
        },
        "id": "lhYcqofzCwW0",
        "outputId": "79c3a300-9a19-49c8-9e11-e829eb7ccb4b"
      },
      "execution_count": 11,
      "outputs": [
        {
          "output_type": "stream",
          "name": "stdout",
          "text": [
            "313/313 [==============================] - 1s 2ms/step - loss: 0.3736 - accuracy: 0.8653\n",
            "0.8652999997138977\n"
          ]
        }
      ]
    },
    {
      "cell_type": "code",
      "source": [
        "model.save_weights('model.h5')"
      ],
      "metadata": {
        "id": "mQMtvIpGKEqQ"
      },
      "execution_count": null,
      "outputs": []
    },
    {
      "cell_type": "markdown",
      "source": [
        "### Вывод: Для двухслойной сети точность составила 0.8689"
      ],
      "metadata": {
        "id": "p2RmhWqqtNs6"
      }
    },
    {
      "cell_type": "code",
      "source": [
        "layer_numbers = [2, 3, 5, 10]\n",
        "accuracy_layers = []\n",
        "for layer_number in layer_numbers:\n",
        "  model_2 = Sequential()\n",
        "  # входной слой + поносвязный слой из 128 нейронов с активацией ReLU\n",
        "  model_2.add(Dense( 128, activation='relu', input_shape=(784,)))  \n",
        "  \n",
        "  for k in range(layer_number):\n",
        "    # Скрытый слой k из 10+(10-k)*10 нейронов с активацией tanh\n",
        "    model_2.add(Dense(  10+(10-k)*10, activation='tanh')) \n",
        "  \n",
        "  model_2.add(Dense(10, activation='softmax')) \n",
        "\n",
        "  model_2.compile(\n",
        "  optimizer='adam', # оптимизатор\n",
        "  loss=keras.losses.CategoricalCrossentropy(), # функция потерь\n",
        "  metrics=['accuracy'], # метрика\n",
        "    ) \n",
        "  \n",
        "  # Train the model\n",
        "  model_2.fit(\n",
        "    train_images[:,:],\n",
        "    y_train[:,:],\n",
        "    epochs=15,\n",
        "    batch_size=32, validation_split=0.2\n",
        "    )\n",
        "  \n",
        "  # Evaluate the model.\n",
        "  test_loss_1_2, test_accuracy_1_2 = model_2.evaluate(\n",
        "    test_images,\n",
        "    y_test\n",
        "    )\n",
        "  # test_loss , test_accuracy\n",
        "  print(test_accuracy_1_2)\n",
        "  accuracy_layers.append(test_accuracy_1_2)\n",
        "  "
      ],
      "metadata": {
        "colab": {
          "base_uri": "https://localhost:8080/"
        },
        "id": "3OdE9KPzteQ3",
        "outputId": "1d448d8f-1a45-42da-e79c-997ee0844d13"
      },
      "execution_count": null,
      "outputs": [
        {
          "output_type": "stream",
          "name": "stdout",
          "text": [
            "Epoch 1/15\n",
            "1500/1500 [==============================] - 5s 3ms/step - loss: 0.5015 - accuracy: 0.8171 - val_loss: 0.4345 - val_accuracy: 0.8443\n",
            "Epoch 2/15\n",
            "1500/1500 [==============================] - 5s 3ms/step - loss: 0.3859 - accuracy: 0.8582 - val_loss: 0.3807 - val_accuracy: 0.8593\n",
            "Epoch 3/15\n",
            "1500/1500 [==============================] - 5s 3ms/step - loss: 0.3469 - accuracy: 0.8724 - val_loss: 0.3618 - val_accuracy: 0.8680\n",
            "Epoch 4/15\n",
            "1500/1500 [==============================] - 5s 3ms/step - loss: 0.3245 - accuracy: 0.8799 - val_loss: 0.3645 - val_accuracy: 0.8685\n",
            "Epoch 5/15\n",
            "1500/1500 [==============================] - 5s 3ms/step - loss: 0.3046 - accuracy: 0.8870 - val_loss: 0.3520 - val_accuracy: 0.8724\n",
            "Epoch 6/15\n",
            "1500/1500 [==============================] - 5s 3ms/step - loss: 0.2925 - accuracy: 0.8912 - val_loss: 0.3236 - val_accuracy: 0.8813\n",
            "Epoch 7/15\n",
            "1500/1500 [==============================] - 4s 3ms/step - loss: 0.2779 - accuracy: 0.8972 - val_loss: 0.3447 - val_accuracy: 0.8777\n",
            "Epoch 8/15\n",
            "1500/1500 [==============================] - 4s 3ms/step - loss: 0.2702 - accuracy: 0.8999 - val_loss: 0.3263 - val_accuracy: 0.8850\n",
            "Epoch 9/15\n",
            "1500/1500 [==============================] - 4s 3ms/step - loss: 0.2586 - accuracy: 0.9040 - val_loss: 0.3337 - val_accuracy: 0.8844\n",
            "Epoch 10/15\n",
            "1500/1500 [==============================] - 4s 3ms/step - loss: 0.2478 - accuracy: 0.9084 - val_loss: 0.3327 - val_accuracy: 0.8820\n",
            "Epoch 11/15\n",
            "1500/1500 [==============================] - 5s 3ms/step - loss: 0.2416 - accuracy: 0.9101 - val_loss: 0.3508 - val_accuracy: 0.8782\n",
            "Epoch 12/15\n",
            "1500/1500 [==============================] - 4s 3ms/step - loss: 0.2320 - accuracy: 0.9118 - val_loss: 0.3479 - val_accuracy: 0.8802\n",
            "Epoch 13/15\n",
            "1500/1500 [==============================] - 4s 3ms/step - loss: 0.2291 - accuracy: 0.9130 - val_loss: 0.3340 - val_accuracy: 0.8809\n",
            "Epoch 14/15\n",
            "1500/1500 [==============================] - 5s 3ms/step - loss: 0.2207 - accuracy: 0.9179 - val_loss: 0.3406 - val_accuracy: 0.8804\n",
            "Epoch 15/15\n",
            "1500/1500 [==============================] - 5s 3ms/step - loss: 0.2132 - accuracy: 0.9200 - val_loss: 0.3434 - val_accuracy: 0.8857\n",
            "313/313 [==============================] - 1s 3ms/step - loss: 0.3692 - accuracy: 0.8762\n",
            "0.8762000203132629\n",
            "Epoch 1/15\n",
            "1500/1500 [==============================] - 6s 3ms/step - loss: 0.5087 - accuracy: 0.8156 - val_loss: 0.4207 - val_accuracy: 0.8482\n",
            "Epoch 2/15\n",
            "1500/1500 [==============================] - 5s 3ms/step - loss: 0.3968 - accuracy: 0.8552 - val_loss: 0.3771 - val_accuracy: 0.8656\n",
            "Epoch 3/15\n",
            "1500/1500 [==============================] - 5s 3ms/step - loss: 0.3577 - accuracy: 0.8678 - val_loss: 0.3850 - val_accuracy: 0.8597\n",
            "Epoch 4/15\n",
            "1500/1500 [==============================] - 5s 3ms/step - loss: 0.3366 - accuracy: 0.8785 - val_loss: 0.3580 - val_accuracy: 0.8712\n",
            "Epoch 5/15\n",
            "1500/1500 [==============================] - 5s 3ms/step - loss: 0.3170 - accuracy: 0.8824 - val_loss: 0.3663 - val_accuracy: 0.8704\n",
            "Epoch 6/15\n",
            "1500/1500 [==============================] - 5s 3ms/step - loss: 0.3042 - accuracy: 0.8876 - val_loss: 0.3629 - val_accuracy: 0.8673\n",
            "Epoch 7/15\n",
            "1500/1500 [==============================] - 5s 3ms/step - loss: 0.2895 - accuracy: 0.8917 - val_loss: 0.3519 - val_accuracy: 0.8720\n",
            "Epoch 8/15\n",
            "1500/1500 [==============================] - 5s 3ms/step - loss: 0.2783 - accuracy: 0.8965 - val_loss: 0.3531 - val_accuracy: 0.8748\n",
            "Epoch 9/15\n",
            "1500/1500 [==============================] - 5s 3ms/step - loss: 0.2679 - accuracy: 0.9001 - val_loss: 0.3329 - val_accuracy: 0.8811\n",
            "Epoch 10/15\n",
            "1500/1500 [==============================] - 5s 3ms/step - loss: 0.2608 - accuracy: 0.9037 - val_loss: 0.3311 - val_accuracy: 0.8839\n",
            "Epoch 11/15\n",
            "1500/1500 [==============================] - 5s 3ms/step - loss: 0.2538 - accuracy: 0.9056 - val_loss: 0.3284 - val_accuracy: 0.8795\n",
            "Epoch 12/15\n",
            "1500/1500 [==============================] - 5s 3ms/step - loss: 0.2451 - accuracy: 0.9084 - val_loss: 0.3365 - val_accuracy: 0.8826\n",
            "Epoch 13/15\n",
            "1500/1500 [==============================] - 5s 3ms/step - loss: 0.2374 - accuracy: 0.9110 - val_loss: 0.3580 - val_accuracy: 0.8743\n",
            "Epoch 14/15\n",
            "1500/1500 [==============================] - 6s 4ms/step - loss: 0.2311 - accuracy: 0.9140 - val_loss: 0.3525 - val_accuracy: 0.8788\n",
            "Epoch 15/15\n",
            "1500/1500 [==============================] - 5s 3ms/step - loss: 0.2192 - accuracy: 0.9187 - val_loss: 0.3381 - val_accuracy: 0.8817\n",
            "313/313 [==============================] - 1s 2ms/step - loss: 0.3621 - accuracy: 0.8757\n",
            "0.8756999969482422\n",
            "Epoch 1/15\n",
            "1500/1500 [==============================] - 7s 4ms/step - loss: 0.5298 - accuracy: 0.8113 - val_loss: 0.5093 - val_accuracy: 0.8213\n",
            "Epoch 2/15\n",
            "1500/1500 [==============================] - 6s 4ms/step - loss: 0.4064 - accuracy: 0.8523 - val_loss: 0.4017 - val_accuracy: 0.8576\n",
            "Epoch 3/15\n",
            "1500/1500 [==============================] - 6s 4ms/step - loss: 0.3745 - accuracy: 0.8633 - val_loss: 0.4130 - val_accuracy: 0.8529\n",
            "Epoch 4/15\n",
            "1500/1500 [==============================] - 6s 4ms/step - loss: 0.3524 - accuracy: 0.8715 - val_loss: 0.3678 - val_accuracy: 0.8666\n",
            "Epoch 5/15\n",
            "1500/1500 [==============================] - 6s 4ms/step - loss: 0.3334 - accuracy: 0.8787 - val_loss: 0.3672 - val_accuracy: 0.8718\n",
            "Epoch 6/15\n",
            "1500/1500 [==============================] - 6s 4ms/step - loss: 0.3225 - accuracy: 0.8831 - val_loss: 0.3697 - val_accuracy: 0.8683\n",
            "Epoch 7/15\n",
            "1500/1500 [==============================] - 6s 4ms/step - loss: 0.3099 - accuracy: 0.8866 - val_loss: 0.3603 - val_accuracy: 0.8698\n",
            "Epoch 8/15\n",
            "1500/1500 [==============================] - 6s 4ms/step - loss: 0.3000 - accuracy: 0.8906 - val_loss: 0.3613 - val_accuracy: 0.8723\n",
            "Epoch 9/15\n",
            "1500/1500 [==============================] - 6s 4ms/step - loss: 0.2887 - accuracy: 0.8950 - val_loss: 0.3635 - val_accuracy: 0.8727\n",
            "Epoch 10/15\n",
            "1500/1500 [==============================] - 6s 4ms/step - loss: 0.2852 - accuracy: 0.8943 - val_loss: 0.3484 - val_accuracy: 0.8788\n",
            "Epoch 11/15\n",
            "1500/1500 [==============================] - 6s 4ms/step - loss: 0.2740 - accuracy: 0.8989 - val_loss: 0.3764 - val_accuracy: 0.8689\n",
            "Epoch 12/15\n",
            "1500/1500 [==============================] - 6s 4ms/step - loss: 0.2658 - accuracy: 0.9020 - val_loss: 0.3683 - val_accuracy: 0.8685\n",
            "Epoch 13/15\n",
            "1500/1500 [==============================] - 6s 4ms/step - loss: 0.2608 - accuracy: 0.9038 - val_loss: 0.3462 - val_accuracy: 0.8851\n",
            "Epoch 14/15\n",
            "1500/1500 [==============================] - 6s 4ms/step - loss: 0.2580 - accuracy: 0.9048 - val_loss: 0.3616 - val_accuracy: 0.8745\n",
            "Epoch 15/15\n",
            "1500/1500 [==============================] - 6s 4ms/step - loss: 0.2525 - accuracy: 0.9063 - val_loss: 0.3699 - val_accuracy: 0.8745\n",
            "313/313 [==============================] - 1s 2ms/step - loss: 0.3886 - accuracy: 0.8709\n",
            "0.8708999752998352\n",
            "Epoch 1/15\n",
            "1500/1500 [==============================] - 8s 5ms/step - loss: 0.6283 - accuracy: 0.7926 - val_loss: 0.5155 - val_accuracy: 0.8158\n",
            "Epoch 2/15\n",
            "1500/1500 [==============================] - 7s 4ms/step - loss: 0.4609 - accuracy: 0.8390 - val_loss: 0.5019 - val_accuracy: 0.8212\n",
            "Epoch 3/15\n",
            "1500/1500 [==============================] - 6s 4ms/step - loss: 0.4216 - accuracy: 0.8508 - val_loss: 0.4652 - val_accuracy: 0.8356\n",
            "Epoch 4/15\n",
            "1500/1500 [==============================] - 7s 5ms/step - loss: 0.3976 - accuracy: 0.8612 - val_loss: 0.3853 - val_accuracy: 0.8677\n",
            "Epoch 5/15\n",
            "1500/1500 [==============================] - 7s 5ms/step - loss: 0.3747 - accuracy: 0.8673 - val_loss: 0.3905 - val_accuracy: 0.8662\n",
            "Epoch 6/15\n",
            "1500/1500 [==============================] - 7s 5ms/step - loss: 0.3613 - accuracy: 0.8729 - val_loss: 0.3944 - val_accuracy: 0.8680\n",
            "Epoch 7/15\n",
            "1500/1500 [==============================] - 7s 5ms/step - loss: 0.3592 - accuracy: 0.8749 - val_loss: 0.3898 - val_accuracy: 0.8663\n",
            "Epoch 8/15\n",
            "1500/1500 [==============================] - 6s 4ms/step - loss: 0.3471 - accuracy: 0.8775 - val_loss: 0.3802 - val_accuracy: 0.8690\n",
            "Epoch 9/15\n",
            "1500/1500 [==============================] - 7s 5ms/step - loss: 0.3357 - accuracy: 0.8814 - val_loss: 0.3760 - val_accuracy: 0.8735\n",
            "Epoch 10/15\n",
            "1500/1500 [==============================] - 7s 5ms/step - loss: 0.3303 - accuracy: 0.8830 - val_loss: 0.4134 - val_accuracy: 0.8491\n",
            "Epoch 11/15\n",
            "1500/1500 [==============================] - 7s 4ms/step - loss: 0.3266 - accuracy: 0.8844 - val_loss: 0.3666 - val_accuracy: 0.8770\n",
            "Epoch 12/15\n",
            "1500/1500 [==============================] - 7s 5ms/step - loss: 0.3244 - accuracy: 0.8862 - val_loss: 0.3795 - val_accuracy: 0.8764\n",
            "Epoch 13/15\n",
            "1500/1500 [==============================] - 7s 5ms/step - loss: 0.3149 - accuracy: 0.8896 - val_loss: 0.3970 - val_accuracy: 0.8642\n",
            "Epoch 14/15\n",
            "1500/1500 [==============================] - 7s 5ms/step - loss: 0.3106 - accuracy: 0.8898 - val_loss: 0.3725 - val_accuracy: 0.8733\n",
            "Epoch 15/15\n",
            "1500/1500 [==============================] - 7s 4ms/step - loss: 0.3066 - accuracy: 0.8914 - val_loss: 0.3689 - val_accuracy: 0.8718\n",
            "313/313 [==============================] - 1s 2ms/step - loss: 0.3854 - accuracy: 0.8631\n",
            "0.863099992275238\n"
          ]
        }
      ]
    },
    {
      "cell_type": "code",
      "source": [
        "import pandas as pd\n",
        "layers_accurasys_data = {'Layers': layer_numbers, 'Accuracys': accuracy_layers}\n",
        "# Create DataFrame.\n",
        "layers_accurasys_df = pd.DataFrame(layers_accurasys_data)\n",
        "# Print the output.\n",
        "print(layers_accurasys_df)"
      ],
      "metadata": {
        "colab": {
          "base_uri": "https://localhost:8080/",
          "height": 235
        },
        "id": "z10uleILvHCt",
        "outputId": "dcdaf486-32b8-41a3-9245-e1788a56e9e8"
      },
      "execution_count": 26,
      "outputs": [
        {
          "output_type": "error",
          "ename": "NameError",
          "evalue": "ignored",
          "traceback": [
            "\u001b[0;31m---------------------------------------------------------------------------\u001b[0m",
            "\u001b[0;31mNameError\u001b[0m                                 Traceback (most recent call last)",
            "\u001b[0;32m<ipython-input-26-0b71b780af20>\u001b[0m in \u001b[0;36m<module>\u001b[0;34m()\u001b[0m\n\u001b[1;32m      1\u001b[0m \u001b[0;32mimport\u001b[0m \u001b[0mpandas\u001b[0m \u001b[0;32mas\u001b[0m \u001b[0mpd\u001b[0m\u001b[0;34m\u001b[0m\u001b[0;34m\u001b[0m\u001b[0m\n\u001b[0;32m----> 2\u001b[0;31m \u001b[0mlayers_accurasys_data\u001b[0m \u001b[0;34m=\u001b[0m \u001b[0;34m{\u001b[0m\u001b[0;34m'Layers'\u001b[0m\u001b[0;34m:\u001b[0m \u001b[0mlayer_numbers\u001b[0m\u001b[0;34m,\u001b[0m \u001b[0;34m'Accuracys'\u001b[0m\u001b[0;34m:\u001b[0m \u001b[0maccuracy_layers\u001b[0m\u001b[0;34m}\u001b[0m\u001b[0;34m\u001b[0m\u001b[0;34m\u001b[0m\u001b[0m\n\u001b[0m\u001b[1;32m      3\u001b[0m \u001b[0;31m# Create DataFrame.\u001b[0m\u001b[0;34m\u001b[0m\u001b[0;34m\u001b[0m\u001b[0;34m\u001b[0m\u001b[0m\n\u001b[1;32m      4\u001b[0m \u001b[0mlayers_accurasys_df\u001b[0m \u001b[0;34m=\u001b[0m \u001b[0mpd\u001b[0m\u001b[0;34m.\u001b[0m\u001b[0mDataFrame\u001b[0m\u001b[0;34m(\u001b[0m\u001b[0mlayers_accurasys_data\u001b[0m\u001b[0;34m)\u001b[0m\u001b[0;34m\u001b[0m\u001b[0;34m\u001b[0m\u001b[0m\n\u001b[1;32m      5\u001b[0m \u001b[0;31m# Print the output.\u001b[0m\u001b[0;34m\u001b[0m\u001b[0;34m\u001b[0m\u001b[0;34m\u001b[0m\u001b[0m\n",
            "\u001b[0;31mNameError\u001b[0m: name 'layer_numbers' is not defined"
          ]
        }
      ]
    },
    {
      "cell_type": "markdown",
      "source": [
        "### Вывод: С увеличением количества слоев, точность модели уменьшается."
      ],
      "metadata": {
        "id": "bCi1sTYe3yUL"
      }
    },
    {
      "cell_type": "markdown",
      "source": [
        "2. Проверьте работу разных оптимизаторов (SGD, Adam, RMSProp) для одной из моделей п.1.Фиксируйте для тренировочного и тестового набора метрики accuracy."
      ],
      "metadata": {
        "id": "YKdM3XAv4l0f"
      }
    },
    {
      "cell_type": "code",
      "source": [
        "train_accurasys_optim =[]\n",
        "test_accurasys_optim = []\n",
        "# Build the model.\n",
        "\n",
        "model_3= Sequential([\n",
        "                    Dense(128, activation='tanh', input_shape=(784,)),\n",
        "                    Dense(110, activation='tanh'),\n",
        "                    Dense(100, activation='tanh'),\n",
        "                    Dense(10, activation='softmax'),\n",
        "])\n",
        "\n",
        "# сохраняем ее веса (это начальная точка) model.save_weights('model.h5')\n",
        "model_3.save_weights('model_3.h5')\n",
        "\n",
        "# число рабочих эпох\n",
        "epochs = 15\n",
        "optimizers_list = ['SGD','RMSProp','adam','NAdam']\n",
        "#opt_list = [keras.optimizers.SGD( ),keras.optimizers.Adam( ),keras.optimizers.Nadam( )]\n",
        "for i_optim in optimizers_list:\n",
        "  # создаем рабочую модель modeli куда будем загружать эти вес (она должна быть идентичной структуры)\n",
        "  modeli = Sequential([\n",
        "                       Dense(128, activation='tanh', input_shape=(784,)),\n",
        "                       Dense(110, activation='tanh'),\n",
        "                       Dense(100, activation='tanh'),\n",
        "                       Dense(10, activation='softmax'),\n",
        "                       ])\n",
        "  # загружаем веса modeli.load_weights('model.h5')\n",
        "  modeli.load_weights('model_3.h5')\n",
        "  # компилируем modeli с одним из оптимизаторов\n",
        "  modeli.compile(\n",
        "      optimizer=i_optim,\n",
        "      loss='categorical_crossentropy',\n",
        "      metrics=['accuracy'],\n",
        "      )\n",
        " \n",
        "  # проводим обучение модели \n",
        "  modeli.fit(\n",
        "      train_images[:,:],\n",
        "      y_train[:,:],\n",
        "      epochs=15,\n",
        "      batch_size=32, validation_split=0.2\n",
        "      )\n",
        "  \n",
        "  # Evaluate the model.\n",
        "  train_loss_3, train_accuracy_3 = modeli.evaluate(\n",
        "      train_images,\n",
        "      y_train\n",
        "      )\n",
        "  test_loss_3, test_accuracy_3 = modeli.evaluate(\n",
        "      test_images,\n",
        "      y_test\n",
        "      )\n",
        "  train_accurasys_optim.append(train_accuracy_3)\n",
        "  test_accurasys_optim.append(test_accuracy_3)\n",
        "  \n"
      ],
      "metadata": {
        "colab": {
          "base_uri": "https://localhost:8080/"
        },
        "id": "YFKCFxAv4sCH",
        "outputId": "3b47e7b2-7a5f-40e7-c482-d56f07cda7aa"
      },
      "execution_count": null,
      "outputs": [
        {
          "output_type": "stream",
          "name": "stdout",
          "text": [
            "Epoch 1/15\n",
            "1500/1500 [==============================] - 4s 3ms/step - loss: 0.6363 - accuracy: 0.7823 - val_loss: 0.4769 - val_accuracy: 0.8267\n",
            "Epoch 2/15\n",
            "1500/1500 [==============================] - 4s 3ms/step - loss: 0.4447 - accuracy: 0.8415 - val_loss: 0.4298 - val_accuracy: 0.8429\n",
            "Epoch 3/15\n",
            "1500/1500 [==============================] - 4s 3ms/step - loss: 0.4017 - accuracy: 0.8562 - val_loss: 0.3983 - val_accuracy: 0.8552\n",
            "Epoch 4/15\n",
            "1500/1500 [==============================] - 4s 3ms/step - loss: 0.3755 - accuracy: 0.8655 - val_loss: 0.3869 - val_accuracy: 0.8581\n",
            "Epoch 5/15\n",
            "1500/1500 [==============================] - 4s 3ms/step - loss: 0.3568 - accuracy: 0.8704 - val_loss: 0.3831 - val_accuracy: 0.8587\n",
            "Epoch 6/15\n",
            "1500/1500 [==============================] - 4s 2ms/step - loss: 0.3411 - accuracy: 0.8764 - val_loss: 0.3665 - val_accuracy: 0.8650\n",
            "Epoch 7/15\n",
            "1500/1500 [==============================] - 4s 3ms/step - loss: 0.3274 - accuracy: 0.8816 - val_loss: 0.3470 - val_accuracy: 0.8733\n",
            "Epoch 8/15\n",
            "1500/1500 [==============================] - 4s 3ms/step - loss: 0.3159 - accuracy: 0.8852 - val_loss: 0.3495 - val_accuracy: 0.8703\n",
            "Epoch 9/15\n",
            "1500/1500 [==============================] - 4s 3ms/step - loss: 0.3054 - accuracy: 0.8895 - val_loss: 0.3504 - val_accuracy: 0.8710\n",
            "Epoch 10/15\n",
            "1500/1500 [==============================] - 4s 2ms/step - loss: 0.2961 - accuracy: 0.8928 - val_loss: 0.3315 - val_accuracy: 0.8799\n",
            "Epoch 11/15\n",
            "1500/1500 [==============================] - 4s 3ms/step - loss: 0.2882 - accuracy: 0.8956 - val_loss: 0.3329 - val_accuracy: 0.8764\n",
            "Epoch 12/15\n",
            "1500/1500 [==============================] - 4s 3ms/step - loss: 0.2791 - accuracy: 0.8991 - val_loss: 0.3517 - val_accuracy: 0.8702\n",
            "Epoch 13/15\n",
            "1500/1500 [==============================] - 4s 2ms/step - loss: 0.2715 - accuracy: 0.9005 - val_loss: 0.3273 - val_accuracy: 0.8813\n",
            "Epoch 14/15\n",
            "1500/1500 [==============================] - 4s 3ms/step - loss: 0.2653 - accuracy: 0.9031 - val_loss: 0.3240 - val_accuracy: 0.8802\n",
            "Epoch 15/15\n",
            "1500/1500 [==============================] - 4s 2ms/step - loss: 0.2580 - accuracy: 0.9071 - val_loss: 0.3361 - val_accuracy: 0.8799\n",
            "1875/1875 [==============================] - 3s 2ms/step - loss: 0.2719 - accuracy: 0.9018\n",
            "313/313 [==============================] - 1s 2ms/step - loss: 0.3685 - accuracy: 0.8689\n",
            "Epoch 1/15\n",
            "1500/1500 [==============================] - 7s 4ms/step - loss: 0.5220 - accuracy: 0.8091 - val_loss: 0.4288 - val_accuracy: 0.8467\n",
            "Epoch 2/15\n",
            "1500/1500 [==============================] - 6s 4ms/step - loss: 0.4017 - accuracy: 0.8545 - val_loss: 0.3907 - val_accuracy: 0.8581\n",
            "Epoch 3/15\n",
            "1500/1500 [==============================] - 6s 4ms/step - loss: 0.3632 - accuracy: 0.8675 - val_loss: 0.3902 - val_accuracy: 0.8619\n",
            "Epoch 4/15\n",
            "1500/1500 [==============================] - 6s 4ms/step - loss: 0.3398 - accuracy: 0.8759 - val_loss: 0.3843 - val_accuracy: 0.8611\n",
            "Epoch 5/15\n",
            "1500/1500 [==============================] - 6s 4ms/step - loss: 0.3256 - accuracy: 0.8804 - val_loss: 0.3622 - val_accuracy: 0.8692\n",
            "Epoch 6/15\n",
            "1500/1500 [==============================] - 6s 4ms/step - loss: 0.3124 - accuracy: 0.8852 - val_loss: 0.3420 - val_accuracy: 0.8760\n",
            "Epoch 7/15\n",
            "1500/1500 [==============================] - 6s 4ms/step - loss: 0.2987 - accuracy: 0.8896 - val_loss: 0.3451 - val_accuracy: 0.8774\n",
            "Epoch 8/15\n",
            "1500/1500 [==============================] - 6s 4ms/step - loss: 0.2885 - accuracy: 0.8936 - val_loss: 0.3621 - val_accuracy: 0.8733\n",
            "Epoch 9/15\n",
            "1500/1500 [==============================] - 6s 4ms/step - loss: 0.2785 - accuracy: 0.8982 - val_loss: 0.3399 - val_accuracy: 0.8812\n",
            "Epoch 10/15\n",
            "1500/1500 [==============================] - 6s 4ms/step - loss: 0.2708 - accuracy: 0.8997 - val_loss: 0.3476 - val_accuracy: 0.8792\n",
            "Epoch 11/15\n",
            "1500/1500 [==============================] - 6s 4ms/step - loss: 0.2599 - accuracy: 0.9040 - val_loss: 0.3510 - val_accuracy: 0.8779\n",
            "Epoch 12/15\n",
            "1500/1500 [==============================] - 6s 4ms/step - loss: 0.2547 - accuracy: 0.9056 - val_loss: 0.3618 - val_accuracy: 0.8697\n",
            "Epoch 13/15\n",
            "1500/1500 [==============================] - 6s 4ms/step - loss: 0.2485 - accuracy: 0.9091 - val_loss: 0.3414 - val_accuracy: 0.8811\n",
            "Epoch 14/15\n",
            "1500/1500 [==============================] - 6s 4ms/step - loss: 0.2387 - accuracy: 0.9123 - val_loss: 0.3592 - val_accuracy: 0.8752\n",
            "Epoch 15/15\n",
            "1500/1500 [==============================] - 6s 4ms/step - loss: 0.2389 - accuracy: 0.9115 - val_loss: 0.3456 - val_accuracy: 0.8791\n",
            "1875/1875 [==============================] - 3s 2ms/step - loss: 0.2418 - accuracy: 0.9127\n",
            "313/313 [==============================] - 1s 2ms/step - loss: 0.3721 - accuracy: 0.8719\n",
            "Epoch 1/15\n",
            "1500/1500 [==============================] - 6s 3ms/step - loss: 0.5052 - accuracy: 0.8152 - val_loss: 0.4163 - val_accuracy: 0.8472\n",
            "Epoch 2/15\n",
            "1500/1500 [==============================] - 5s 3ms/step - loss: 0.4033 - accuracy: 0.8502 - val_loss: 0.4069 - val_accuracy: 0.8508\n",
            "Epoch 3/15\n",
            "1500/1500 [==============================] - 5s 3ms/step - loss: 0.3754 - accuracy: 0.8620 - val_loss: 0.4314 - val_accuracy: 0.8482\n",
            "Epoch 4/15\n",
            "1500/1500 [==============================] - 6s 4ms/step - loss: 0.3535 - accuracy: 0.8698 - val_loss: 0.3670 - val_accuracy: 0.8668\n",
            "Epoch 5/15\n",
            "1500/1500 [==============================] - 5s 3ms/step - loss: 0.3419 - accuracy: 0.8748 - val_loss: 0.3652 - val_accuracy: 0.8654\n",
            "Epoch 6/15\n",
            "1500/1500 [==============================] - 5s 4ms/step - loss: 0.3312 - accuracy: 0.8787 - val_loss: 0.3538 - val_accuracy: 0.8742\n",
            "Epoch 7/15\n",
            "1500/1500 [==============================] - 5s 4ms/step - loss: 0.3180 - accuracy: 0.8834 - val_loss: 0.3731 - val_accuracy: 0.8692\n",
            "Epoch 8/15\n",
            "1500/1500 [==============================] - 5s 4ms/step - loss: 0.3116 - accuracy: 0.8846 - val_loss: 0.3718 - val_accuracy: 0.8689\n",
            "Epoch 9/15\n",
            "1500/1500 [==============================] - 5s 3ms/step - loss: 0.3020 - accuracy: 0.8873 - val_loss: 0.3606 - val_accuracy: 0.8727\n",
            "Epoch 10/15\n",
            "1500/1500 [==============================] - 5s 4ms/step - loss: 0.2945 - accuracy: 0.8904 - val_loss: 0.3673 - val_accuracy: 0.8729\n",
            "Epoch 11/15\n",
            "1500/1500 [==============================] - 5s 3ms/step - loss: 0.2868 - accuracy: 0.8945 - val_loss: 0.3684 - val_accuracy: 0.8723\n",
            "Epoch 12/15\n",
            "1500/1500 [==============================] - 5s 4ms/step - loss: 0.2800 - accuracy: 0.8964 - val_loss: 0.3637 - val_accuracy: 0.8714\n",
            "Epoch 13/15\n",
            "1500/1500 [==============================] - 5s 4ms/step - loss: 0.2817 - accuracy: 0.8964 - val_loss: 0.3546 - val_accuracy: 0.8741\n",
            "Epoch 14/15\n",
            "1500/1500 [==============================] - 5s 3ms/step - loss: 0.2720 - accuracy: 0.8992 - val_loss: 0.3507 - val_accuracy: 0.8776\n",
            "Epoch 15/15\n",
            "1500/1500 [==============================] - 5s 4ms/step - loss: 0.2710 - accuracy: 0.8994 - val_loss: 0.3606 - val_accuracy: 0.8743\n",
            "1875/1875 [==============================] - 3s 1ms/step - loss: 0.2756 - accuracy: 0.8998\n",
            "313/313 [==============================] - 1s 2ms/step - loss: 0.3801 - accuracy: 0.8661\n",
            "Epoch 1/15\n",
            "1500/1500 [==============================] - 9s 5ms/step - loss: 0.4889 - accuracy: 0.8229 - val_loss: 0.4496 - val_accuracy: 0.8358\n",
            "Epoch 2/15\n",
            "1500/1500 [==============================] - 8s 5ms/step - loss: 0.3815 - accuracy: 0.8597 - val_loss: 0.3759 - val_accuracy: 0.8628\n",
            "Epoch 3/15\n",
            "1500/1500 [==============================] - 8s 5ms/step - loss: 0.3537 - accuracy: 0.8702 - val_loss: 0.3728 - val_accuracy: 0.8643\n",
            "Epoch 4/15\n",
            "1500/1500 [==============================] - 8s 5ms/step - loss: 0.3390 - accuracy: 0.8745 - val_loss: 0.3590 - val_accuracy: 0.8664\n",
            "Epoch 5/15\n",
            "1500/1500 [==============================] - 8s 5ms/step - loss: 0.3225 - accuracy: 0.8797 - val_loss: 0.3613 - val_accuracy: 0.8682\n",
            "Epoch 6/15\n",
            "1500/1500 [==============================] - 7s 5ms/step - loss: 0.3111 - accuracy: 0.8857 - val_loss: 0.3557 - val_accuracy: 0.8752\n",
            "Epoch 7/15\n",
            "1500/1500 [==============================] - 7s 5ms/step - loss: 0.3037 - accuracy: 0.8878 - val_loss: 0.3469 - val_accuracy: 0.8747\n",
            "Epoch 8/15\n",
            "1500/1500 [==============================] - 7s 4ms/step - loss: 0.2973 - accuracy: 0.8907 - val_loss: 0.3384 - val_accuracy: 0.8792\n",
            "Epoch 9/15\n",
            "1500/1500 [==============================] - 7s 4ms/step - loss: 0.2908 - accuracy: 0.8924 - val_loss: 0.3556 - val_accuracy: 0.8740\n",
            "Epoch 10/15\n",
            "1500/1500 [==============================] - 7s 5ms/step - loss: 0.2860 - accuracy: 0.8927 - val_loss: 0.3579 - val_accuracy: 0.8702\n",
            "Epoch 11/15\n",
            "1500/1500 [==============================] - 7s 5ms/step - loss: 0.2778 - accuracy: 0.8959 - val_loss: 0.3542 - val_accuracy: 0.8711\n",
            "Epoch 12/15\n",
            "1500/1500 [==============================] - 7s 5ms/step - loss: 0.2744 - accuracy: 0.9000 - val_loss: 0.3411 - val_accuracy: 0.8817\n",
            "Epoch 13/15\n",
            "1500/1500 [==============================] - 7s 5ms/step - loss: 0.2705 - accuracy: 0.9002 - val_loss: 0.3669 - val_accuracy: 0.8645\n",
            "Epoch 14/15\n",
            "1500/1500 [==============================] - 7s 5ms/step - loss: 0.2679 - accuracy: 0.8993 - val_loss: 0.3487 - val_accuracy: 0.8761\n",
            "Epoch 15/15\n",
            "1500/1500 [==============================] - 7s 5ms/step - loss: 0.2615 - accuracy: 0.9038 - val_loss: 0.3536 - val_accuracy: 0.8737\n",
            "1875/1875 [==============================] - 3s 2ms/step - loss: 0.2707 - accuracy: 0.8983\n",
            "313/313 [==============================] - 1s 2ms/step - loss: 0.3702 - accuracy: 0.8635\n"
          ]
        }
      ]
    },
    {
      "cell_type": "code",
      "source": [
        "optim_accurasys_data = {'Optimizators': optimizers_list, 'Accuracys_train': train_accurasys_optim, 'Accuracys_test': test_accurasys_optim}\n",
        "# Create DataFrame.\n",
        "optim_accurasys_df = pd.DataFrame(optim_accurasys_data)\n",
        "# Print the output.\n",
        "print(optim_accurasys_df)"
      ],
      "metadata": {
        "colab": {
          "base_uri": "https://localhost:8080/"
        },
        "id": "b7jIJzTC5vj_",
        "outputId": "6d741d38-02eb-4091-919e-fad0e1208bf2"
      },
      "execution_count": null,
      "outputs": [
        {
          "output_type": "stream",
          "name": "stdout",
          "text": [
            "  Optimizators  Accuracys_train  Accuracys_test\n",
            "0          SGD         0.901750          0.8689\n",
            "1      RMSProp         0.912733          0.8719\n",
            "2         adam         0.899800          0.8661\n",
            "3        NAdam         0.898267          0.8635\n"
          ]
        }
      ]
    },
    {
      "cell_type": "markdown",
      "source": [
        "### Вывод: Применение оптимизатора RMSProp позволило увеличить точность модели."
      ],
      "metadata": {
        "id": "jKoQ6S-dC2X5"
      }
    },
    {
      "cell_type": "code",
      "source": [
        "from sklearn.metrics import confusion_matrix, ConfusionMatrixDisplay"
      ],
      "metadata": {
        "id": "iKv2b3Eu0tee"
      },
      "execution_count": 1,
      "outputs": []
    },
    {
      "cell_type": "code",
      "source": [
        "y_pred = np.argmax(model.predict(test_images), axis=1)\n",
        "y_pred[:10]"
      ],
      "metadata": {
        "colab": {
          "base_uri": "https://localhost:8080/"
        },
        "id": "clUHJ0u71ACO",
        "outputId": "ba6322c9-92de-4adc-c629-a1bc2965dc10"
      },
      "execution_count": 12,
      "outputs": [
        {
          "output_type": "execute_result",
          "data": {
            "text/plain": [
              "array([9, 2, 1, 1, 6, 1, 4, 6, 5, 7])"
            ]
          },
          "metadata": {},
          "execution_count": 12
        }
      ]
    },
    {
      "cell_type": "code",
      "source": [
        "CM = confusion_matrix(test_labelf,y_pred)\n",
        "print(CM)"
      ],
      "metadata": {
        "colab": {
          "base_uri": "https://localhost:8080/"
        },
        "id": "WVchU3fr4QbX",
        "outputId": "f889e0e6-abad-4e73-a9cf-d3057c883c61"
      },
      "execution_count": 14,
      "outputs": [
        {
          "output_type": "stream",
          "name": "stdout",
          "text": [
            "[[817   3  13  48   3   2 101   0  13   0]\n",
            " [  0 970   0  22   6   0   2   0   0   0]\n",
            " [ 15   0 747  18 138   0  79   0   3   0]\n",
            " [ 14  18  13 867  62   0  20   0   6   0]\n",
            " [  0   1  75  26 863   0  32   0   3   0]\n",
            " [  0   0   0   1   0 952   1  30   1  15]\n",
            " [119   2  85  43 131   0 602   0  18   0]\n",
            " [  0   0   0   0   0  37   0 920   0  43]\n",
            " [  1   0   3   9   4   4   8   4 967   0]\n",
            " [  1   0   0   0   0  20   0  31   0 948]]\n"
          ]
        }
      ]
    },
    {
      "cell_type": "code",
      "source": [
        "disp = ConfusionMatrixDisplay(confusion_matrix=CM, display_labels=np.arange(10))\n",
        "\n",
        "disp.plot( values_format ='.3g')\n",
        "plt.show()"
      ],
      "metadata": {
        "colab": {
          "base_uri": "https://localhost:8080/",
          "height": 279
        },
        "id": "YBG-WdZM4oiY",
        "outputId": "b9bf08ba-570d-4a0b-cc18-e4526c7f6eb3"
      },
      "execution_count": 15,
      "outputs": [
        {
          "output_type": "display_data",
          "data": {
            "image/png": "[encoded data removed]",
            "text/plain": [
              "<Figure size 432x288 with 2 Axes>"
            ]
          },
          "metadata": {
            "needs_background": "light"
          }
        }
      ]
    },
    {
      "cell_type": "code",
      "source": [
        "from sklearn.metrics import  precision_score, recall_score\n"
      ],
      "metadata": {
        "id": "d737ASCX68YE"
      },
      "execution_count": 16,
      "outputs": []
    },
    {
      "cell_type": "code",
      "source": [
        "print(precision_score(test_labelf, y_pred, average=\"macro\"))\n",
        "print(recall_score(test_labelf, y_pred, average=\"macro\")) "
      ],
      "metadata": {
        "colab": {
          "base_uri": "https://localhost:8080/"
        },
        "id": "pLyZiunw7e8-",
        "outputId": "570ce128-df40-4ac4-e1f3-68eca577ee6a"
      },
      "execution_count": 20,
      "outputs": [
        {
          "output_type": "stream",
          "name": "stdout",
          "text": [
            "0.8655492163438941\n",
            "0.8652999999999998\n"
          ]
        }
      ]
    },
    {
      "cell_type": "code",
      "source": [
        "from sklearn.metrics import precision_recall_fscore_support as score\n",
        "\n",
        "precision, recall, fscore, support = score(test_labelf, y_pred)\n",
        "\n",
        "print('precision: {}'.format(precision))\n",
        "print('recall: {}'.format(recall))\n"
      ],
      "metadata": {
        "colab": {
          "base_uri": "https://localhost:8080/"
        },
        "id": "gxVevJu99Kq-",
        "outputId": "d25704f2-c6ab-497c-f75e-758d398d6268"
      },
      "execution_count": 25,
      "outputs": [
        {
          "output_type": "stream",
          "name": "stdout",
          "text": [
            "precision: [0.84488108 0.97585513 0.79807692 0.8384913  0.71499586 0.93793103\n",
            " 0.71242604 0.93401015 0.95647873 0.94234592]\n",
            "recall: [0.817 0.97  0.747 0.867 0.863 0.952 0.602 0.92  0.967 0.948]\n"
          ]
        }
      ]
    },
    {
      "cell_type": "code",
      "source": [
        "import pandas as pd\n",
        "prec_recall_data = {'Labels': labels, 'Precisions': precision, 'Recall': recall}\n",
        "# Create DataFrame.\n",
        "prec_recall_df = pd.DataFrame(prec_recall_data)\n",
        "# Print the output.\n",
        "print(prec_recall_df)"
      ],
      "metadata": {
        "colab": {
          "base_uri": "https://localhost:8080/"
        },
        "id": "Iqb9sMLL-Y68",
        "outputId": "8bacdc9c-1198-42a7-d8e6-5154bc0f440a"
      },
      "execution_count": 28,
      "outputs": [
        {
          "output_type": "stream",
          "name": "stdout",
          "text": [
            "   Labels  Precisions  Recall\n",
            "0       0    0.844881   0.817\n",
            "1       1    0.975855   0.970\n",
            "2       2    0.798077   0.747\n",
            "3       3    0.838491   0.867\n",
            "4       4    0.714996   0.863\n",
            "5       5    0.937931   0.952\n",
            "6       6    0.712426   0.602\n",
            "7       7    0.934010   0.920\n",
            "8       8    0.956479   0.967\n",
            "9       9    0.942346   0.948\n"
          ]
        }
      ]
    },
    {
      "cell_type": "markdown",
      "source": [
        "### Вывод: из таблицы точности и полноты наилучшие результаты у класса \"1\", наихудшие у класса \"6\""
      ],
      "metadata": {
        "id": "XZhy2TxO_cs6"
      }
    }
  ]
}